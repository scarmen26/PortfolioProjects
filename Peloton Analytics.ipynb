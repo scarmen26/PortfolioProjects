{
 "cells": [
  {
   "cell_type": "markdown",
   "id": "3bc6f8b5",
   "metadata": {},
   "source": [
    "Description\n",
    "\n",
    "Workout Analytics and Metrics from Peloton Tread: data is used for analyzing workout patterns and performance metrics from Peloton Tread workouts."
   ]
  },
  {
   "cell_type": "markdown",
   "id": "5d50f13b",
   "metadata": {},
   "source": [
    "Cleaning and manipulating Excel data using Python can be done using various libraries, with the most commonly used library for data manipulation being Pandas. Pandas provides powerful tools for data cleaning, transformation, and analysis. Here's an overview of the steps to clean and manipulate Excel data in Python using Pandas:"
   ]
  },
  {
   "cell_type": "markdown",
   "id": "ba1fe852",
   "metadata": {},
   "source": [
    "### Import Pandas library and load dataset into a Pandas dataframe"
   ]
  },
  {
   "cell_type": "markdown",
   "id": "d99f7b78",
   "metadata": {},
   "source": [
    "\"import pandas\" loads pandas library into Python script/program. All functions,classes, or objects provided by Pandas becomes available.\n",
    "\n",
    "\"as pd\" assings an alias to the imported Pandas library. \"as pd\" creates a shorthand reference to Pandas, making it easier/more convinient to use Pandas functions/classes in the code\n"
   ]
  },
  {
   "cell_type": "code",
   "execution_count": 1,
   "id": "d0fdafe3",
   "metadata": {},
   "outputs": [],
   "source": [
    "import pandas as pd"
   ]
  },
  {
   "cell_type": "code",
   "execution_count": 2,
   "id": "c5a34fad",
   "metadata": {},
   "outputs": [],
   "source": [
    "tread_workouts_df = pd.read_csv(r\"C:\\Users\\ext.carmen.salazar\\OneDrive - DSV\\Desktop\\Carmsfarms_workouts.csv\")"
   ]
  },
  {
   "cell_type": "markdown",
   "id": "c6ce0512",
   "metadata": {},
   "source": [
    "### Exploring the dataset"
   ]
  },
  {
   "cell_type": "markdown",
   "id": "ddbd4aab",
   "metadata": {},
   "source": [
    "use info() method for a summary of the datafame. Includes total number of observations (their range), total number of columns, data types, non-null values, memory usage"
   ]
  },
  {
   "cell_type": "code",
   "execution_count": 5,
   "id": "6f713e50",
   "metadata": {},
   "outputs": [
    {
     "name": "stdout",
     "output_type": "stream",
     "text": [
      "<class 'pandas.core.frame.DataFrame'>\n",
      "RangeIndex: 795 entries, 0 to 794\n",
      "Data columns (total 18 columns):\n",
      " #   Column              Non-Null Count  Dtype  \n",
      "---  ------              --------------  -----  \n",
      " 0   Workout Timestamp   795 non-null    object \n",
      " 1   Live/On-Demand      791 non-null    object \n",
      " 2   Instructor Name     768 non-null    object \n",
      " 3   Length (minutes)    795 non-null    int64  \n",
      " 4   Fitness Discipline  795 non-null    object \n",
      " 5   Type                791 non-null    object \n",
      " 6   Title               795 non-null    object \n",
      " 7   Class Timestamp     768 non-null    object \n",
      " 8   Total Output        778 non-null    float64\n",
      " 9   Avg. Watts          0 non-null      float64\n",
      " 10  Avg. Resistance     0 non-null      float64\n",
      " 11  Avg. Cadence (RPM)  0 non-null      float64\n",
      " 12  Avg. Speed (mph)    778 non-null    float64\n",
      " 13  Distance (mi)       778 non-null    float64\n",
      " 14  Calories Burned     795 non-null    int64  \n",
      " 15  Avg. Heartrate      0 non-null      float64\n",
      " 16  Avg. Incline        473 non-null    float64\n",
      " 17  Avg. Pace (min/mi)  465 non-null    object \n",
      "dtypes: float64(8), int64(2), object(8)\n",
      "memory usage: 111.9+ KB\n",
      "None\n"
     ]
    }
   ],
   "source": [
    "print(tread_workouts_df.info())"
   ]
  },
  {
   "cell_type": "code",
   "execution_count": null,
   "id": "f211d1dc",
   "metadata": {},
   "outputs": [],
   "source": [
    "print"
   ]
  }
 ],
 "metadata": {
  "kernelspec": {
   "display_name": "Python 3 (ipykernel)",
   "language": "python",
   "name": "python3"
  },
  "language_info": {
   "codemirror_mode": {
    "name": "ipython",
    "version": 3
   },
   "file_extension": ".py",
   "mimetype": "text/x-python",
   "name": "python",
   "nbconvert_exporter": "python",
   "pygments_lexer": "ipython3",
   "version": "3.10.9"
  }
 },
 "nbformat": 4,
 "nbformat_minor": 5
}
