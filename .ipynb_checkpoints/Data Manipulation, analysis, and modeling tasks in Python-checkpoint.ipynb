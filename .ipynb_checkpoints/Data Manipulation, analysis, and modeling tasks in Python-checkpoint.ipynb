{
 "cells": [
  {
   "cell_type": "markdown",
   "id": "a36469d9",
   "metadata": {},
   "source": [
    "Data Manipulation, analysis, and modeling tasks in Python"
   ]
  },
  {
   "cell_type": "code",
   "execution_count": null,
   "id": "ed5b3e72",
   "metadata": {},
   "outputs": [],
   "source": [
    "Data Loading # test comment"
   ]
  },
  {
   "cell_type": "code",
   "execution_count": 1,
   "id": "f7690d57",
   "metadata": {},
   "outputs": [],
   "source": [
    "## Import required libraries\n",
    "\n",
    "import pandas as pd"
   ]
  },
  {
   "cell_type": "code",
   "execution_count": 2,
   "id": "f090671f",
   "metadata": {},
   "outputs": [],
   "source": [
    "## Read the dataset using 'pd.read.csv()' function. Read CSV file into a pandas DataFrame\n",
    "\n",
    "titanic_df = pd.read_csv(r\"C:\\Users\\ext.carmen.salazar\\OneDrive - DSV\\Desktop\\titanic_dataset.csv\")"
   ]
  },
  {
   "cell_type": "code",
   "execution_count": 3,
   "id": "8345cb20",
   "metadata": {},
   "outputs": [
    {
     "data": {
      "text/html": [
       "<div>\n",
       "<style scoped>\n",
       "    .dataframe tbody tr th:only-of-type {\n",
       "        vertical-align: middle;\n",
       "    }\n",
       "\n",
       "    .dataframe tbody tr th {\n",
       "        vertical-align: top;\n",
       "    }\n",
       "\n",
       "    .dataframe thead th {\n",
       "        text-align: right;\n",
       "    }\n",
       "</style>\n",
       "<table border=\"1\" class=\"dataframe\">\n",
       "  <thead>\n",
       "    <tr style=\"text-align: right;\">\n",
       "      <th></th>\n",
       "      <th>PassengerId</th>\n",
       "      <th>Survived</th>\n",
       "      <th>Pclass</th>\n",
       "      <th>Name</th>\n",
       "      <th>Sex</th>\n",
       "      <th>Age</th>\n",
       "      <th>SibSp</th>\n",
       "      <th>Parch</th>\n",
       "      <th>Ticket</th>\n",
       "      <th>Fare</th>\n",
       "      <th>Cabin</th>\n",
       "      <th>Embarked</th>\n",
       "    </tr>\n",
       "  </thead>\n",
       "  <tbody>\n",
       "    <tr>\n",
       "      <th>0</th>\n",
       "      <td>1</td>\n",
       "      <td>0</td>\n",
       "      <td>3</td>\n",
       "      <td>Braund, Mr. Owen Harris</td>\n",
       "      <td>male</td>\n",
       "      <td>22.0</td>\n",
       "      <td>1</td>\n",
       "      <td>0</td>\n",
       "      <td>A/5 21171</td>\n",
       "      <td>7.2500</td>\n",
       "      <td>NaN</td>\n",
       "      <td>S</td>\n",
       "    </tr>\n",
       "    <tr>\n",
       "      <th>1</th>\n",
       "      <td>2</td>\n",
       "      <td>1</td>\n",
       "      <td>1</td>\n",
       "      <td>Cumings, Mrs. John Bradley (Florence Briggs Th...</td>\n",
       "      <td>female</td>\n",
       "      <td>38.0</td>\n",
       "      <td>1</td>\n",
       "      <td>0</td>\n",
       "      <td>PC 17599</td>\n",
       "      <td>71.2833</td>\n",
       "      <td>C85</td>\n",
       "      <td>C</td>\n",
       "    </tr>\n",
       "    <tr>\n",
       "      <th>2</th>\n",
       "      <td>3</td>\n",
       "      <td>1</td>\n",
       "      <td>3</td>\n",
       "      <td>Heikkinen, Miss. Laina</td>\n",
       "      <td>female</td>\n",
       "      <td>26.0</td>\n",
       "      <td>0</td>\n",
       "      <td>0</td>\n",
       "      <td>STON/O2. 3101282</td>\n",
       "      <td>7.9250</td>\n",
       "      <td>NaN</td>\n",
       "      <td>S</td>\n",
       "    </tr>\n",
       "    <tr>\n",
       "      <th>3</th>\n",
       "      <td>4</td>\n",
       "      <td>1</td>\n",
       "      <td>1</td>\n",
       "      <td>Futrelle, Mrs. Jacques Heath (Lily May Peel)</td>\n",
       "      <td>female</td>\n",
       "      <td>35.0</td>\n",
       "      <td>1</td>\n",
       "      <td>0</td>\n",
       "      <td>113803</td>\n",
       "      <td>53.1000</td>\n",
       "      <td>C123</td>\n",
       "      <td>S</td>\n",
       "    </tr>\n",
       "    <tr>\n",
       "      <th>4</th>\n",
       "      <td>5</td>\n",
       "      <td>0</td>\n",
       "      <td>3</td>\n",
       "      <td>Allen, Mr. William Henry</td>\n",
       "      <td>male</td>\n",
       "      <td>35.0</td>\n",
       "      <td>0</td>\n",
       "      <td>0</td>\n",
       "      <td>373450</td>\n",
       "      <td>8.0500</td>\n",
       "      <td>NaN</td>\n",
       "      <td>S</td>\n",
       "    </tr>\n",
       "  </tbody>\n",
       "</table>\n",
       "</div>"
      ],
      "text/plain": [
       "   PassengerId  Survived  Pclass  \\\n",
       "0            1         0       3   \n",
       "1            2         1       1   \n",
       "2            3         1       3   \n",
       "3            4         1       1   \n",
       "4            5         0       3   \n",
       "\n",
       "                                                Name     Sex   Age  SibSp  \\\n",
       "0                            Braund, Mr. Owen Harris    male  22.0      1   \n",
       "1  Cumings, Mrs. John Bradley (Florence Briggs Th...  female  38.0      1   \n",
       "2                             Heikkinen, Miss. Laina  female  26.0      0   \n",
       "3       Futrelle, Mrs. Jacques Heath (Lily May Peel)  female  35.0      1   \n",
       "4                           Allen, Mr. William Henry    male  35.0      0   \n",
       "\n",
       "   Parch            Ticket     Fare Cabin Embarked  \n",
       "0      0         A/5 21171   7.2500   NaN        S  \n",
       "1      0          PC 17599  71.2833   C85        C  \n",
       "2      0  STON/O2. 3101282   7.9250   NaN        S  \n",
       "3      0            113803  53.1000  C123        S  \n",
       "4      0            373450   8.0500   NaN        S  "
      ]
     },
     "execution_count": 3,
     "metadata": {},
     "output_type": "execute_result"
    }
   ],
   "source": [
    "## Exploring the dataset\n",
    "## Use 'titanic_df.head() to view the first few rows of the dataframe and get an overview od the data'\n",
    "\n",
    "titanic_df.head()\n"
   ]
  },
  {
   "cell_type": "code",
   "execution_count": 9,
   "id": "7ab1ce7c",
   "metadata": {},
   "outputs": [
    {
     "name": "stdout",
     "output_type": "stream",
     "text": [
      "Total number of observations: 891\n"
     ]
    }
   ],
   "source": [
    "# Total number of rows in dataframe (total number of observations in dataset)\n",
    "# total number of observations help make sense of the dataset size and sample size\n",
    "\n",
    "total_observations = titanic_df.shape[0]\n",
    "print(\"Total number of observations:\", total_observations)"
   ]
  },
  {
   "cell_type": "code",
   "execution_count": 11,
   "id": "8d9b24ed",
   "metadata": {},
   "outputs": [
    {
     "name": "stdout",
     "output_type": "stream",
     "text": [
      "Column counts:\n",
      "PassengerId    891\n",
      "Survived       891\n",
      "Pclass         891\n",
      "Name           891\n",
      "Sex            891\n",
      "Age            714\n",
      "SibSp          891\n",
      "Parch          891\n",
      "Ticket         891\n",
      "Fare           891\n",
      "Cabin          204\n",
      "Embarked       889\n",
      "dtype: int64\n"
     ]
    }
   ],
   "source": [
    "# number of non-missing values in each column of the dataframe\n",
    "\n",
    "column_counts = titanic_df.count()\n",
    "print(\"Column counts:\")\n",
    "print(column_counts)\n"
   ]
  },
  {
   "cell_type": "markdown",
   "id": "f8b08ec9",
   "metadata": {},
   "source": [
    "## Data Cleaning"
   ]
  },
  {
   "cell_type": "code",
   "execution_count": 12,
   "id": "faf0fc65",
   "metadata": {},
   "outputs": [
    {
     "name": "stdout",
     "output_type": "stream",
     "text": [
      "Missing values per column:\n",
      "PassengerId      0\n",
      "Survived         0\n",
      "Pclass           0\n",
      "Name             0\n",
      "Sex              0\n",
      "Age            177\n",
      "SibSp            0\n",
      "Parch            0\n",
      "Ticket           0\n",
      "Fare             0\n",
      "Cabin          687\n",
      "Embarked         2\n",
      "dtype: int64\n"
     ]
    }
   ],
   "source": [
    "# total number of missing values in each column\n",
    "\n",
    "missing_values = titanic_df.isnull().sum()\n",
    "print(\"Missing values per column:\")\n",
    "print(missing_values)"
   ]
  },
  {
   "cell_type": "code",
   "execution_count": 26,
   "id": "066ca533",
   "metadata": {},
   "outputs": [
    {
     "name": "stdout",
     "output_type": "stream",
     "text": [
      "Number of duplicate rows: 0\n"
     ]
    }
   ],
   "source": [
    "# check for duplicates in dataframe\n",
    "duplicates = titanic_df.duplicated()\n",
    "\n",
    "# coun the number of duplicates\n",
    "number_duplicates = duplicates.sum()\n",
    "\n",
    "print(\"Number of duplicate rows:\", number_duplicates)\n"
   ]
  },
  {
   "cell_type": "code",
   "execution_count": 27,
   "id": "6c29f39c",
   "metadata": {},
   "outputs": [
    {
     "name": "stdout",
     "output_type": "stream",
     "text": [
      "Data types of each column:\n",
      "PassengerId      int64\n",
      "Survived         int64\n",
      "Pclass           int64\n",
      "Name            object\n",
      "Sex             object\n",
      "Age            float64\n",
      "SibSp            int64\n",
      "Parch            int64\n",
      "Ticket          object\n",
      "Fare           float64\n",
      "Cabin           object\n",
      "Embarked        object\n",
      "dtype: object\n"
     ]
    }
   ],
   "source": [
    "# determining if i need to convert data types for proper analysis\n",
    "# retrieve the data types of each column\n",
    "\n",
    "data_types = titanic_df.dtypes\n",
    "print(\"Data types of each column:\")\n",
    "print(data_types)"
   ]
  },
  {
   "cell_type": "markdown",
   "id": "263e7471",
   "metadata": {},
   "source": [
    "expected types for each column in the Titanic dataset:\n",
    "\n",
    "PassengerId: The assigned type int64 aligns with the expected type for an identifier column.\n",
    "\n",
    "Survived: The assigned type int64 aligns with the expected type for a binary indicator column (0 or 1 for not survived or survived, respectively).\n",
    "\n",
    "Pclass: The assigned type int64 aligns with the expected type for a categorical variable representing passenger class.\n",
    "\n",
    "Name: The assigned type object is appropriate for a column containing string values.\n",
    "\n",
    "Sex: The assigned type object is appropriate for a column containing categorical values (male or female).\n",
    "\n",
    "Age: The assigned type float64 is suitable for a column representing numerical values for age.\n",
    "\n",
    "SibSp: The assigned type int64 aligns with the expected type for a numerical column representing the number of siblings/spouses aboard.\n",
    "\n",
    "Parch: The assigned type int64 aligns with the expected type for a numerical column representing the number of parents/children aboard.\n",
    "\n",
    "Ticket: The assigned type object is appropriate for a column containing alphanumeric values.\n",
    "\n",
    "Fare: The assigned type float64 is appropriate for a numerical column representing the ticket fare.\n",
    "\n",
    "Cabin: The assigned type object is suitable for a column containing string values representing cabin information.\n",
    "\n",
    "Embarked: The assigned type object is appropriate for a column containing categorical values representing the port of embarkation.\n",
    "\n",
    "Overall, the assigned data types seem to align well with the expected types for each column in the Titanic dataset."
   ]
  },
  {
   "cell_type": "markdown",
   "id": "ae9a14f0",
   "metadata": {},
   "source": [
    "Handle Missing Values: Missing values might affect the ability to infer the correct data type automatically. Prior to assessing data types, handle missing values appropriately. Missing values can impact the inferred data types and may require imputation or removal before proceeding with the data type conversion."
   ]
  },
  {
   "cell_type": "code",
   "execution_count": 13,
   "id": "a96487af",
   "metadata": {},
   "outputs": [],
   "source": [
    "# insights into the Titanic dataset"
   ]
  },
  {
   "cell_type": "code",
   "execution_count": 14,
   "id": "b1631cd6",
   "metadata": {},
   "outputs": [
    {
     "name": "stdout",
     "output_type": "stream",
     "text": [
      "Average age of passengers: 29.69911764705882\n"
     ]
    }
   ],
   "source": [
    "# average age of passengers on the Titanic (29.7) provides an understanding of the age distribution\n",
    "\n",
    "mean_age = titanic_df['Age'].mean()\n",
    "print(\"Average age of passengers:\", mean_age)"
   ]
  },
  {
   "cell_type": "code",
   "execution_count": 24,
   "id": "ed3e7fa5",
   "metadata": {},
   "outputs": [
    {
     "name": "stdout",
     "output_type": "stream",
     "text": [
      "Minimum age of passengers: 0.42\n",
      "Maximum age of passengers: 80.0\n"
     ]
    }
   ],
   "source": [
    "# minimum & maximum age of passengers on the Titanic\n",
    "# this provides age range of passengers. The minimum age is 0.42 years (about 5 months) and the maximum age is 80 years. \n",
    "\n",
    "min_age = titanic_df['Age'].min()\n",
    "max_age = titanic_df['Age'].max()\n",
    "\n",
    "print(\"Minimum age of passengers:\", min_age)\n",
    "print(\"Maximum age of passengers:\", max_age)"
   ]
  },
  {
   "cell_type": "code",
   "execution_count": 15,
   "id": "81665b94",
   "metadata": {},
   "outputs": [
    {
     "name": "stdout",
     "output_type": "stream",
     "text": [
      "Median fare paid by passengers: 14.4542\n"
     ]
    }
   ],
   "source": [
    "# median fare paid by passengers on the Titanic ($14.45). This demonstrates that half of the passengers paid less than $14.45\n",
    "# while the other half paid more than $14.45. This provides a central tendency that is less affected by extreme fare values.\n",
    "\n",
    "median_fare = titanic_df['Fare'].median()\n",
    "print(\"Median fare paid by passengers:\", median_fare)"
   ]
  },
  {
   "cell_type": "code",
   "execution_count": 25,
   "id": "bee33125",
   "metadata": {},
   "outputs": [
    {
     "name": "stdout",
     "output_type": "stream",
     "text": [
      "Quartiles of fare:\n",
      "0.25     7.9104\n",
      "0.50    14.4542\n",
      "0.75    31.0000\n",
      "Name: Fare, dtype: float64\n"
     ]
    }
   ],
   "source": [
    "# calculating the quartiles (25th, 50th, and 75th percentile) of \"Fare\" column\n",
    "# we can see that 25th percentile of the fare variable is $7.91, the 7th percentile of the fare variables is $31\n",
    "# this means that 25% of passengers paid less than $7.91, while 25% paid more than $31. \n",
    "# This provides insights into fare distribution and spread of prices paid\n",
    "quartiles = titanic_df['Fare'].quantile([0.25, 0.5, 0.75])\n",
    "print(\"Quartiles of fare:\")\n",
    "print(quartiles)"
   ]
  },
  {
   "cell_type": "code",
   "execution_count": 16,
   "id": "d113763c",
   "metadata": {},
   "outputs": [
    {
     "name": "stdout",
     "output_type": "stream",
     "text": [
      "Mode of passenger class:\n",
      "0    3\n",
      "Name: Pclass, dtype: int64\n"
     ]
    }
   ],
   "source": [
    "# mode: most frequent value(s) in passenger class variable to determine most common class among the passengers\n",
    "\n",
    "mode_passenger_class = titanic_df['Pclass'].mode()\n",
    "print(\"Mode of passenger class:\")\n",
    "print(mode_passenger_class)"
   ]
  },
  {
   "cell_type": "code",
   "execution_count": 21,
   "id": "bcc0d269",
   "metadata": {},
   "outputs": [
    {
     "name": "stdout",
     "output_type": "stream",
     "text": [
      "most common passenger class: 3\n"
     ]
    }
   ],
   "source": [
    "# we can that the column has multuple modes (0 & 3), to access most common passenger class, we use indexing\n",
    "\n",
    "common_passenger_class = mode_passenger_class[0]\n",
    "print(\"most common passenger class:\", common_passenger_class)"
   ]
  },
  {
   "cell_type": "code",
   "execution_count": 22,
   "id": "d8c513f0",
   "metadata": {},
   "outputs": [
    {
     "data": {
      "text/plain": [
       "[3]"
      ]
     },
     "execution_count": 22,
     "metadata": {},
     "output_type": "execute_result"
    }
   ],
   "source": [
    "# double checking to see if there are multiple values occurring with the same highest frequency.\n",
    "# to retrieve all modes, i can instead convert the series object to a list using the below\n",
    "# After running the below code, we can see that the mode of the passenger class variable is \"Third Class\", meaning that the\n",
    "# most common class among the passengers was third class.\n",
    "\n",
    "mode_passenger_class.tolist()"
   ]
  },
  {
   "cell_type": "code",
   "execution_count": null,
   "id": "70643d5b",
   "metadata": {},
   "outputs": [],
   "source": []
  }
 ],
 "metadata": {
  "kernelspec": {
   "display_name": "Python 3 (ipykernel)",
   "language": "python",
   "name": "python3"
  },
  "language_info": {
   "codemirror_mode": {
    "name": "ipython",
    "version": 3
   },
   "file_extension": ".py",
   "mimetype": "text/x-python",
   "name": "python",
   "nbconvert_exporter": "python",
   "pygments_lexer": "ipython3",
   "version": "3.10.9"
  }
 },
 "nbformat": 4,
 "nbformat_minor": 5
}
