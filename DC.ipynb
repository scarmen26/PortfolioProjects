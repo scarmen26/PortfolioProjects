{
 "cells": [
  {
   "cell_type": "markdown",
   "id": "6248fba2",
   "metadata": {},
   "source": [
    "# Project Background"
   ]
  },
  {
   "cell_type": "markdown",
   "id": "b3f5e075",
   "metadata": {},
   "source": [
    "**This data is from a project i did in graduate school where we examined the economic and racial characteristics of distinct spatial areas and their associatin with the levels of reinvestment within them. \n",
    "\n",
    "Quantitative measures were used to identify differences between neihgborhoods of interest based on census data. We use the operationalization of gentrification adapted from Hammel and Wyly (1996) and employ four separate quantitative measures of gentrification: 1) change in percent of people over 25 with 4+ years of college; 2) change in median household income; and 3) change in home value. \n",
    "\n",
    "Because race is central to theories of gentrification, we also used the percent change in the black and White population as a measure of racial change. To be considered, each census tracts needed to meet one of two eligibility criteria: (1) they were below the city median income in 2000; or (2) they were majority Black in 2000. Chosen neighborhoods needed to have experienced various levels of gentrification and displacement: (1) high intensity gentrification and displacement; (2) moderate gentrification and moderate displacement; (3) low gentrification and low displacement; (4) not gentrified and low displacement. \n",
    "\n",
    "Census tracts 72 and 74.01, within Washington D.C were chosen for having different levels of gentrification and black displacement based on quantitative data for years of interest 2000-2018."
   ]
  },
  {
   "cell_type": "markdown",
   "id": "951ab917",
   "metadata": {},
   "source": [
    "By most quantitative measures stated above, census tract 72 was the most gentrified neighborhood in Washington DC, having experienced complete redevelopment and displacement of majority of its Black residents. Since 2000, this tract, located in Navy Yard, has experienced a 1370.2% increase of individuals with college degrees; a median household income increase of 872.7%, and a median housing value increase of 201%. In 2018, the Black population had decreased from 96% to 23.5% while the White population increased from 3.3% to 68%. "
   ]
  },
  {
   "cell_type": "markdown",
   "id": "cf52b465",
   "metadata": {},
   "source": [
    "By contrast, Census tract 74.01 had minimal signs of redevelopment, and thus had not gentrified nor experienced high levels of Black displacement in 2018. Since 2000, census tract 74.01, located in Petworth, has experienced a 318.5% increase of individuals with college degrees; a median household income decrease of 33.6%, and a median housing value increase of 18%. In 2018, the Black population had decreased from 98% to 92% while the White population increased from 0.47% to 3.5%. "
   ]
  },
  {
   "cell_type": "markdown",
   "id": "e1d21190",
   "metadata": {},
   "source": [
    "Qualitative methods were used to directly observe visible indicators of neighborhood change and disorder. To gain a better insight into varying levels and types of neighborhood investment and disinvestment, the built environment of each census tract was manually examined and coded for, via Google Street View (GSV) images. This data is presented below. Indicators in this project: new signs/structures controlling traffic, new public courtesies, signs discouraging disorder, litter, commercial useas aligned with cultural aspects of gentrification."
   ]
  },
  {
   "cell_type": "code",
   "execution_count": 64,
   "id": "085bb9e0",
   "metadata": {},
   "outputs": [],
   "source": [
    "# Imported pandas libraries into our environment\n",
    "\n",
    "import pandas as pd\n",
    "import seaborn as sns\n",
    "import numpy as np\n",
    "\n",
    "import matplotlib\n",
    "import matplotlib.pyplot as plt\n",
    "import matplotlib.patches as mpatches\n",
    "plt.style.use('ggplot')\n",
    "from matplotlib.pyplot import figure\n",
    "\n",
    "%matplotlib inline\n",
    "matplotlib.rcParams['figure.figsize'] = (12,8) #adjusts the configuration of the plots we will create\n"
   ]
  },
  {
   "cell_type": "code",
   "execution_count": 2,
   "id": "67a73f7d",
   "metadata": {},
   "outputs": [],
   "source": [
    "# Reading in the data into memory as a pandas dataframe, using read_csv\n",
    "\n",
    "CensusTractData = pd.read_csv(r'C:\\Users\\ext.carmen.salazar\\Downloads\\CensusTractData.csv')"
   ]
  },
  {
   "cell_type": "code",
   "execution_count": 3,
   "id": "dbf9fe45",
   "metadata": {},
   "outputs": [
    {
     "data": {
      "text/html": [
       "<div>\n",
       "<style scoped>\n",
       "    .dataframe tbody tr th:only-of-type {\n",
       "        vertical-align: middle;\n",
       "    }\n",
       "\n",
       "    .dataframe tbody tr th {\n",
       "        vertical-align: top;\n",
       "    }\n",
       "\n",
       "    .dataframe thead th {\n",
       "        text-align: right;\n",
       "    }\n",
       "</style>\n",
       "<table border=\"1\" class=\"dataframe\">\n",
       "  <thead>\n",
       "    <tr style=\"text-align: right;\">\n",
       "      <th></th>\n",
       "      <th>TractID</th>\n",
       "      <th>Google or IRl</th>\n",
       "      <th>Block Face Direc.</th>\n",
       "      <th>Street Address</th>\n",
       "      <th>Image Month</th>\n",
       "      <th>Image Year</th>\n",
       "      <th>Primary Land Use</th>\n",
       "      <th>Primary Land Use2</th>\n",
       "      <th># of Strucures</th>\n",
       "      <th># of Residential Struc.</th>\n",
       "      <th>...</th>\n",
       "      <th>Indicator of foreign presence</th>\n",
       "      <th>Describe Indicator of foregin presence</th>\n",
       "      <th>Visible People?</th>\n",
       "      <th># of visible people (not in cars)</th>\n",
       "      <th>Race of visible people</th>\n",
       "      <th>Age of visible people</th>\n",
       "      <th>Distinct inconsistencies among G.S.V. images</th>\n",
       "      <th>Years available for block face</th>\n",
       "      <th>Major difference btwn previous image yrs. and most recent yr.?</th>\n",
       "      <th>If yes, briefly describe difference btwn image yrs.</th>\n",
       "    </tr>\n",
       "  </thead>\n",
       "  <tbody>\n",
       "    <tr>\n",
       "      <th>0</th>\n",
       "      <td>72.0</td>\n",
       "      <td>Google</td>\n",
       "      <td>East</td>\n",
       "      <td>1026 3rd St SE</td>\n",
       "      <td>October</td>\n",
       "      <td>2018</td>\n",
       "      <td>Residential</td>\n",
       "      <td>Residential</td>\n",
       "      <td>11</td>\n",
       "      <td>10</td>\n",
       "      <td>...</td>\n",
       "      <td>0</td>\n",
       "      <td>0</td>\n",
       "      <td>1</td>\n",
       "      <td>1</td>\n",
       "      <td>Mostly black</td>\n",
       "      <td>Young adult</td>\n",
       "      <td>Yes, limited street view access.</td>\n",
       "      <td>2007, 2012, 2014, 2016, 2018</td>\n",
       "      <td>1</td>\n",
       "      <td>New construction ( structure &amp; metal gates/ fe...</td>\n",
       "    </tr>\n",
       "    <tr>\n",
       "      <th>1</th>\n",
       "      <td>72.0</td>\n",
       "      <td>Google</td>\n",
       "      <td>North</td>\n",
       "      <td>301 K St. SE</td>\n",
       "      <td>October</td>\n",
       "      <td>2018</td>\n",
       "      <td>Residential</td>\n",
       "      <td>Residential</td>\n",
       "      <td>6</td>\n",
       "      <td>6</td>\n",
       "      <td>...</td>\n",
       "      <td>0</td>\n",
       "      <td>0</td>\n",
       "      <td>1</td>\n",
       "      <td>5</td>\n",
       "      <td>Mostly white</td>\n",
       "      <td>Young adults</td>\n",
       "      <td>Yes, Limited Street View</td>\n",
       "      <td>2007, 2009, 2011, 2014, 2016, 2017, 2018</td>\n",
       "      <td>1</td>\n",
       "      <td>New constructed structure, rehabbed older stru...</td>\n",
       "    </tr>\n",
       "    <tr>\n",
       "      <th>2</th>\n",
       "      <td>72.0</td>\n",
       "      <td>Google</td>\n",
       "      <td>South</td>\n",
       "      <td>312 L St SE</td>\n",
       "      <td>October</td>\n",
       "      <td>2018</td>\n",
       "      <td>Residential</td>\n",
       "      <td>Residential</td>\n",
       "      <td>5</td>\n",
       "      <td>5</td>\n",
       "      <td>...</td>\n",
       "      <td>0</td>\n",
       "      <td>0</td>\n",
       "      <td>1</td>\n",
       "      <td>1</td>\n",
       "      <td>Mostly black</td>\n",
       "      <td>Young adult</td>\n",
       "      <td>No</td>\n",
       "      <td>2007, 2009, 2011, 2014, 2018</td>\n",
       "      <td>1</td>\n",
       "      <td>New construction</td>\n",
       "    </tr>\n",
       "    <tr>\n",
       "      <th>3</th>\n",
       "      <td>72.0</td>\n",
       "      <td>Google</td>\n",
       "      <td>East</td>\n",
       "      <td>1114 3rd St SE</td>\n",
       "      <td>August</td>\n",
       "      <td>2018</td>\n",
       "      <td>Residential</td>\n",
       "      <td>Residential</td>\n",
       "      <td>7</td>\n",
       "      <td>7</td>\n",
       "      <td>...</td>\n",
       "      <td>0</td>\n",
       "      <td>0</td>\n",
       "      <td>1</td>\n",
       "      <td>10</td>\n",
       "      <td>Mostly white</td>\n",
       "      <td>Middle-aged (8), young adults (2),</td>\n",
       "      <td>No</td>\n",
       "      <td>2007, 2009, 2011, 2012, 2014, 2016, 2018</td>\n",
       "      <td>1</td>\n",
       "      <td>New construction</td>\n",
       "    </tr>\n",
       "    <tr>\n",
       "      <th>4</th>\n",
       "      <td>72.0</td>\n",
       "      <td>Google</td>\n",
       "      <td>North</td>\n",
       "      <td>305 L St SE</td>\n",
       "      <td>October</td>\n",
       "      <td>2018</td>\n",
       "      <td>Residential</td>\n",
       "      <td>Residential</td>\n",
       "      <td>24</td>\n",
       "      <td>24</td>\n",
       "      <td>...</td>\n",
       "      <td>0</td>\n",
       "      <td>0</td>\n",
       "      <td>1</td>\n",
       "      <td>9</td>\n",
       "      <td>Mostly black</td>\n",
       "      <td>Children (2), teens (2), young adults (5)</td>\n",
       "      <td>No</td>\n",
       "      <td>2007, 2009, 2011, 2014, 2018</td>\n",
       "      <td>1</td>\n",
       "      <td>New construction on entire block</td>\n",
       "    </tr>\n",
       "  </tbody>\n",
       "</table>\n",
       "<p>5 rows × 40 columns</p>\n",
       "</div>"
      ],
      "text/plain": [
       "   TractID Google or IRl Block Face Direc.  Street Address Image Month  \\\n",
       "0     72.0        Google              East  1026 3rd St SE     October   \n",
       "1     72.0        Google             North    301 K St. SE     October   \n",
       "2     72.0        Google             South     312 L St SE     October   \n",
       "3     72.0        Google              East  1114 3rd St SE      August   \n",
       "4     72.0        Google             North     305 L St SE     October   \n",
       "\n",
       "   Image Year Primary Land Use Primary Land Use2  # of Strucures  \\\n",
       "0        2018      Residential       Residential              11   \n",
       "1        2018      Residential       Residential               6   \n",
       "2        2018      Residential       Residential               5   \n",
       "3        2018      Residential       Residential               7   \n",
       "4        2018      Residential       Residential              24   \n",
       "\n",
       "   # of Residential Struc.  ...  Indicator of foreign presence  \\\n",
       "0                       10  ...                              0   \n",
       "1                        6  ...                              0   \n",
       "2                        5  ...                              0   \n",
       "3                        7  ...                              0   \n",
       "4                       24  ...                              0   \n",
       "\n",
       "   Describe Indicator of foregin presence  Visible People?  \\\n",
       "0                                       0                1   \n",
       "1                                       0                1   \n",
       "2                                       0                1   \n",
       "3                                       0                1   \n",
       "4                                       0                1   \n",
       "\n",
       "   # of visible people (not in cars)  Race of visible people  \\\n",
       "0                                  1            Mostly black   \n",
       "1                                  5            Mostly white   \n",
       "2                                  1            Mostly black   \n",
       "3                                 10            Mostly white   \n",
       "4                                  9            Mostly black   \n",
       "\n",
       "                       Age of visible people  \\\n",
       "0                                Young adult   \n",
       "1                               Young adults   \n",
       "2                                Young adult   \n",
       "3         Middle-aged (8), young adults (2),   \n",
       "4  Children (2), teens (2), young adults (5)   \n",
       "\n",
       "   Distinct inconsistencies among G.S.V. images  \\\n",
       "0              Yes, limited street view access.   \n",
       "1                     Yes, Limited Street View    \n",
       "2                                            No   \n",
       "3                                            No   \n",
       "4                                            No   \n",
       "\n",
       "             Years available for block face  \\\n",
       "0              2007, 2012, 2014, 2016, 2018   \n",
       "1  2007, 2009, 2011, 2014, 2016, 2017, 2018   \n",
       "2              2007, 2009, 2011, 2014, 2018   \n",
       "3  2007, 2009, 2011, 2012, 2014, 2016, 2018   \n",
       "4              2007, 2009, 2011, 2014, 2018   \n",
       "\n",
       "   Major difference btwn previous image yrs. and most recent yr.?  \\\n",
       "0                                                  1                \n",
       "1                                                  1                \n",
       "2                                                  1                \n",
       "3                                                  1                \n",
       "4                                                  1                \n",
       "\n",
       "   If yes, briefly describe difference btwn image yrs.  \n",
       "0  New construction ( structure & metal gates/ fe...    \n",
       "1  New constructed structure, rehabbed older stru...    \n",
       "2                                   New construction    \n",
       "3                                   New construction    \n",
       "4                   New construction on entire block    \n",
       "\n",
       "[5 rows x 40 columns]"
      ]
     },
     "execution_count": 3,
     "metadata": {},
     "output_type": "execute_result"
    }
   ],
   "source": [
    "# Looking at the data\n",
    "\n",
    "CensusTractData.head()"
   ]
  },
  {
   "cell_type": "code",
   "execution_count": 4,
   "id": "c10d8fa4",
   "metadata": {},
   "outputs": [
    {
     "name": "stdout",
     "output_type": "stream",
     "text": [
      "<class 'pandas.core.frame.DataFrame'>\n",
      "RangeIndex: 194 entries, 0 to 193\n",
      "Data columns (total 40 columns):\n",
      " #   Column                                                          Non-Null Count  Dtype  \n",
      "---  ------                                                          --------------  -----  \n",
      " 0   TractID                                                         194 non-null    float64\n",
      " 1   Google or IRl                                                   194 non-null    object \n",
      " 2   Block Face Direc.                                               194 non-null    object \n",
      " 3   Street Address                                                  194 non-null    object \n",
      " 4   Image Month                                                     194 non-null    object \n",
      " 5   Image Year                                                      194 non-null    int64  \n",
      " 6   Primary Land Use                                                194 non-null    object \n",
      " 7   Primary Land Use2                                               194 non-null    object \n",
      " 8   # of Strucures                                                  194 non-null    int64  \n",
      " 9   # of Residential Struc.                                         194 non-null    int64  \n",
      " 10  Multi-Family Units                                              194 non-null    int64  \n",
      " 11  # of Structures Considered Old                                  194 non-null    int64  \n",
      " 12  # of Structures considered New                                  194 non-null    int64  \n",
      " 13  # Residences w/ Minor Upgrades                                  194 non-null    int64  \n",
      " 14  # of Residences w/ Major Upgrades                               194 non-null    int64  \n",
      " 15  # of Residences w/ new patio furniture or landscaping           194 non-null    int64  \n",
      " 16  # of structures w/ metal grates and fences                      194 non-null    int64  \n",
      " 17  # of structures w/ minor exterior decay                         194 non-null    int64  \n",
      " 18  # of structures w/ major exterior decay                         194 non-null    int64  \n",
      " 19  # no decay                                                      194 non-null    int64  \n",
      " 20  # of abandoned/ boarded up                                      194 non-null    int64  \n",
      " 21  New Signs/Structues controlling traffic                         194 non-null    int64  \n",
      " 22  New public courtesies                                           194 non-null    int64  \n",
      " 23  New large-scale development(75% block)                          194 non-null    int64  \n",
      " 24  Signs discouraging disorder                                     193 non-null    float64\n",
      " 25  Vacant Area and public street beautification                    194 non-null    int64  \n",
      " 26  Litter                                                          194 non-null    int64  \n",
      " 27  Unkempt vacant area or public st. frontage                      194 non-null    int64  \n",
      " 28  Commercial uses alligned w/ cultural aspects of gentrification  194 non-null    int64  \n",
      " 29  Describe commercial uses                                        194 non-null    object \n",
      " 30  Indicator of foreign presence                                   194 non-null    int64  \n",
      " 31  Describe Indicator of foregin presence                          194 non-null    object \n",
      " 32  Visible People?                                                 194 non-null    int64  \n",
      " 33  # of visible people (not in cars)                               194 non-null    object \n",
      " 34  Race of visible people                                          194 non-null    object \n",
      " 35  Age of visible people                                           194 non-null    object \n",
      " 36  Distinct inconsistencies among G.S.V. images                    194 non-null    object \n",
      " 37  Years available for block face                                  194 non-null    object \n",
      " 38  Major difference btwn previous image yrs. and most recent yr.?  194 non-null    int64  \n",
      " 39  If yes, briefly describe difference btwn image yrs.             194 non-null    object \n",
      "dtypes: float64(2), int64(24), object(14)\n",
      "memory usage: 60.8+ KB\n"
     ]
    }
   ],
   "source": [
    "# getting a sense of the information within dataframe like record counts, column names, data types, index range and memory usage\n",
    "# Looking at the summary, we can see that:\n",
    "# record count 194, composed of 39 columns, data types are float64, object, and int64\n",
    "# there are no missing values of any records\n",
    "\n",
    "CensusTractData.info()"
   ]
  },
  {
   "cell_type": "code",
   "execution_count": 5,
   "id": "6f5cd8ec",
   "metadata": {},
   "outputs": [],
   "source": [
    "# updated column names to eliminate white space and replace them with an underscore\n",
    "\n",
    "CensusTractData.columns = CensusTractData.columns.str.replace(' ', '_')"
   ]
  },
  {
   "cell_type": "code",
   "execution_count": 6,
   "id": "a22af06d",
   "metadata": {},
   "outputs": [
    {
     "name": "stdout",
     "output_type": "stream",
     "text": [
      "<class 'pandas.core.frame.DataFrame'>\n",
      "RangeIndex: 194 entries, 0 to 193\n",
      "Data columns (total 40 columns):\n",
      " #   Column                                                          Non-Null Count  Dtype  \n",
      "---  ------                                                          --------------  -----  \n",
      " 0   TractID                                                         194 non-null    float64\n",
      " 1   Google_or_IRl                                                   194 non-null    object \n",
      " 2   Block_Face_Direc.                                               194 non-null    object \n",
      " 3   Street_Address                                                  194 non-null    object \n",
      " 4   Image_Month                                                     194 non-null    object \n",
      " 5   Image_Year                                                      194 non-null    int64  \n",
      " 6   Primary_Land_Use                                                194 non-null    object \n",
      " 7   Primary_Land_Use2                                               194 non-null    object \n",
      " 8   #_of_Strucures                                                  194 non-null    int64  \n",
      " 9   #_of_Residential_Struc.                                         194 non-null    int64  \n",
      " 10  Multi-Family_Units                                              194 non-null    int64  \n",
      " 11  #_of_Structures_Considered_Old                                  194 non-null    int64  \n",
      " 12  #_of_Structures_considered_New                                  194 non-null    int64  \n",
      " 13  #_Residences_w/_Minor_Upgrades                                  194 non-null    int64  \n",
      " 14  #_of_Residences_w/_Major_Upgrades                               194 non-null    int64  \n",
      " 15  #_of_Residences_w/_new_patio_furniture_or_landscaping           194 non-null    int64  \n",
      " 16  #_of_structures_w/_metal_grates_and_fences                      194 non-null    int64  \n",
      " 17  #_of_structures_w/_minor_exterior_decay                         194 non-null    int64  \n",
      " 18  #_of_structures_w/_major_exterior_decay                         194 non-null    int64  \n",
      " 19  #_no_decay                                                      194 non-null    int64  \n",
      " 20  #_of_abandoned/_boarded_up                                      194 non-null    int64  \n",
      " 21  New_Signs/Structues_controlling_traffic                         194 non-null    int64  \n",
      " 22  New_public_courtesies                                           194 non-null    int64  \n",
      " 23  New_large-scale_development(75%_block)                          194 non-null    int64  \n",
      " 24  Signs_discouraging_disorder                                     193 non-null    float64\n",
      " 25  Vacant_Area_and_public_street_beautification                    194 non-null    int64  \n",
      " 26  Litter                                                          194 non-null    int64  \n",
      " 27  Unkempt_vacant_area_or_public_st._frontage                      194 non-null    int64  \n",
      " 28  Commercial_uses_alligned_w/_cultural_aspects_of_gentrification  194 non-null    int64  \n",
      " 29  Describe_commercial_uses                                        194 non-null    object \n",
      " 30  Indicator_of_foreign_presence                                   194 non-null    int64  \n",
      " 31  Describe_Indicator_of_foregin_presence                          194 non-null    object \n",
      " 32  Visible_People?                                                 194 non-null    int64  \n",
      " 33  #_of_visible_people_(not_in_cars)                               194 non-null    object \n",
      " 34  Race_of_visible_people                                          194 non-null    object \n",
      " 35  Age_of_visible_people                                           194 non-null    object \n",
      " 36  Distinct_inconsistencies_among_G.S.V._images                    194 non-null    object \n",
      " 37  Years_available_for_block_face                                  194 non-null    object \n",
      " 38  Major_difference_btwn_previous_image_yrs._and_most_recent_yr.?  194 non-null    int64  \n",
      " 39  If_yes,_briefly_describe_difference_btwn_image_yrs.             194 non-null    object \n",
      "dtypes: float64(2), int64(24), object(14)\n",
      "memory usage: 60.8+ KB\n"
     ]
    }
   ],
   "source": [
    "\n",
    "CensusTractData.info()"
   ]
  },
  {
   "cell_type": "code",
   "execution_count": 8,
   "id": "5477c58f",
   "metadata": {},
   "outputs": [
    {
     "data": {
      "text/plain": [
       "Residential      109\n",
       "Commerical        32\n",
       "Mixed             22\n",
       "Other             16\n",
       "Institutional     14\n",
       "Industrial         1\n",
       "Name: Primary_Land_Use2, dtype: int64"
      ]
     },
     "execution_count": 8,
     "metadata": {},
     "output_type": "execute_result"
    }
   ],
   "source": [
    "# get the count of how many Residentail, Industrail, etc.\n",
    "land_use_types = CensusTractData.loc[:,'Primary_Land_Use2']\n",
    "land_use_types.value_counts()"
   ]
  },
  {
   "cell_type": "code",
   "execution_count": 9,
   "id": "754ef47b",
   "metadata": {},
   "outputs": [
    {
     "name": "stdout",
     "output_type": "stream",
     "text": [
      "0      72.00\n",
      "1      72.00\n",
      "2      72.00\n",
      "3      72.00\n",
      "4      72.00\n",
      "       ...  \n",
      "189    21.01\n",
      "190    21.01\n",
      "191    21.01\n",
      "192    21.01\n",
      "193    21.01\n",
      "Name: TractID, Length: 194, dtype: float64\n"
     ]
    }
   ],
   "source": [
    "# Returns an object of type Series\n",
    "# gives us all rows, with only the TractID column\n",
    "tract_column = CensusTractData.loc[:,'TractID']\n",
    "print(tract_column)"
   ]
  },
  {
   "cell_type": "code",
   "execution_count": 10,
   "id": "dd1ef788",
   "metadata": {},
   "outputs": [
    {
     "name": "stdout",
     "output_type": "stream",
     "text": [
      "     TractID Google_or_IRl Block_Face_Direc.       Street_Address Image_Month  \\\n",
      "0       72.0        Google              East       1026 3rd St SE     October   \n",
      "1       72.0        Google             North         301 K St. SE     October   \n",
      "2       72.0        Google             South          312 L St SE     October   \n",
      "3       72.0        Google              East       1114 3rd St SE      August   \n",
      "4       72.0        Google             North          305 L St SE     October   \n",
      "..       ...           ...               ...                  ...         ...   \n",
      "110     72.0        Google             North          503 M St SE  Septemeber   \n",
      "111     72.0        Google              West     515 M St SE #200      August   \n",
      "112     72.0        Google              West       1010 7th St SE      August   \n",
      "113     72.0        Google             North  717 Virginia Ave SE      August   \n",
      "114     72.0        Google              East       1007 8th St SE   September   \n",
      "\n",
      "     Image_Year                   Primary_Land_Use Primary_Land_Use2  \\\n",
      "0          2018                        Residential       Residential   \n",
      "1          2018                        Residential       Residential   \n",
      "2          2018                        Residential       Residential   \n",
      "3          2018                        Residential       Residential   \n",
      "4          2018                        Residential       Residential   \n",
      "..          ...                                ...               ...   \n",
      "110        2018                         Commercial        Commerical   \n",
      "111        2017                         Commercial        Commerical   \n",
      "112        2018                        Residential       Residential   \n",
      "113        2014  Other: land use indistinguishable             Other   \n",
      "114        2018                         Commercial        Commerical   \n",
      "\n",
      "     #_of_Strucures  #_of_Residential_Struc.  ...  \\\n",
      "0                11                       10  ...   \n",
      "1                 6                        6  ...   \n",
      "2                 5                        5  ...   \n",
      "3                 7                        7  ...   \n",
      "4                24                       24  ...   \n",
      "..              ...                      ...  ...   \n",
      "110               0                        0  ...   \n",
      "111               1                        0  ...   \n",
      "112               1                        1  ...   \n",
      "113               0                        0  ...   \n",
      "114               3                        0  ...   \n",
      "\n",
      "     Indicator_of_foreign_presence  Describe_Indicator_of_foregin_presence  \\\n",
      "0                                0                                       0   \n",
      "1                                0                                       0   \n",
      "2                                0                                       0   \n",
      "3                                0                                       0   \n",
      "4                                0                                       0   \n",
      "..                             ...                                     ...   \n",
      "110                              0                                       0   \n",
      "111                              0                                       0   \n",
      "112                              0                                       0   \n",
      "113                              0                                       0   \n",
      "114                              0                                       0   \n",
      "\n",
      "     Visible_People?  #_of_visible_people_(not_in_cars)  \\\n",
      "0                  1                                  1   \n",
      "1                  1                                  5   \n",
      "2                  1                                  1   \n",
      "3                  1                                 10   \n",
      "4                  1                                  9   \n",
      "..               ...                                ...   \n",
      "110                1                    (5-20) Some: 16   \n",
      "111                0                                  0   \n",
      "112                0                                  0   \n",
      "113                0                                  0   \n",
      "114                0                                  0   \n",
      "\n",
      "     Race_of_visible_people  \\\n",
      "0              Mostly black   \n",
      "1              Mostly white   \n",
      "2              Mostly black   \n",
      "3              Mostly white   \n",
      "4              Mostly black   \n",
      "..                      ...   \n",
      "110      Black.Latino.White   \n",
      "111                       0   \n",
      "112                       0   \n",
      "113                       0   \n",
      "114                       0   \n",
      "\n",
      "                                 Age_of_visible_people  \\\n",
      "0                                          Young adult   \n",
      "1                                         Young adults   \n",
      "2                                          Young adult   \n",
      "3                   Middle-aged (8), young adults (2),   \n",
      "4            Children (2), teens (2), young adults (5)   \n",
      "..                                                 ...   \n",
      "110  Mixed: Young Adults (20s, 30s; 12), Middle Age...   \n",
      "111                                                  0   \n",
      "112                                                  0   \n",
      "113                                                  0   \n",
      "114                                                  0   \n",
      "\n",
      "     Distinct_inconsistencies_among_G.S.V._images  \\\n",
      "0                Yes, limited street view access.   \n",
      "1                       Yes, Limited Street View    \n",
      "2                                              No   \n",
      "3                                              No   \n",
      "4                                              No   \n",
      "..                                            ...   \n",
      "110                                            No   \n",
      "111                    Yes, only 2017 year images   \n",
      "112                                            No   \n",
      "113                                            No   \n",
      "114               Yes, limited street view access   \n",
      "\n",
      "               Years_available_for_block_face  \\\n",
      "0                2007, 2012, 2014, 2016, 2018   \n",
      "1    2007, 2009, 2011, 2014, 2016, 2017, 2018   \n",
      "2                2007, 2009, 2011, 2014, 2018   \n",
      "3    2007, 2009, 2011, 2012, 2014, 2016, 2018   \n",
      "4                2007, 2009, 2011, 2014, 2018   \n",
      "..                                        ...   \n",
      "110  2007, 2008, 2009, 2011, 2015, 2017, 2018   \n",
      "111                                      2017   \n",
      "112              2009, 2014, 2016, 2017, 2018   \n",
      "113                    2009, 2011, 2012, 2014   \n",
      "114        2008, 2009, 2011, 2014, 2017, 2018   \n",
      "\n",
      "     Major_difference_btwn_previous_image_yrs._and_most_recent_yr.?  \\\n",
      "0                                                    1                \n",
      "1                                                    1                \n",
      "2                                                    1                \n",
      "3                                                    1                \n",
      "4                                                    1                \n",
      "..                                                 ...                \n",
      "110                                                  0                \n",
      "111                                                  0                \n",
      "112                                                  0                \n",
      "113                                                  1                \n",
      "114                                                  0                \n",
      "\n",
      "     If_yes,_briefly_describe_difference_btwn_image_yrs.  \n",
      "0    New construction ( structure & metal gates/ fe...    \n",
      "1    New constructed structure, rehabbed older stru...    \n",
      "2                                     New construction    \n",
      "3                                     New construction    \n",
      "4                     New construction on entire block    \n",
      "..                                                 ...    \n",
      "110                                                  0    \n",
      "111                                                  0    \n",
      "112                                                  0    \n",
      "113                                Structure tore down    \n",
      "114                                                  0    \n",
      "\n",
      "[115 rows x 40 columns]\n"
     ]
    }
   ],
   "source": [
    "# filtering data\n",
    "tract_72_df = CensusTractData.query(\"TractID == 72\")\n",
    "print(tract_72_df)"
   ]
  },
  {
   "cell_type": "code",
   "execution_count": 11,
   "id": "ef280b2c",
   "metadata": {},
   "outputs": [
    {
     "data": {
      "text/plain": [
       "95"
      ]
     },
     "execution_count": 11,
     "metadata": {},
     "output_type": "execute_result"
    }
   ],
   "source": [
    "# Generating variables of interest for each tract of interest: census tract 72 and 74.01\n",
    "# because data is only in 0s and 1s, it sums it all to give 95 blocks with this indicator\n",
    "new_signs_tract_72 = tract_72_df.loc[:, 'New_Signs/Structues_controlling_traffic']\n",
    "new_signs_tract_72.sum()"
   ]
  },
  {
   "cell_type": "code",
   "execution_count": 12,
   "id": "5e234120",
   "metadata": {},
   "outputs": [
    {
     "data": {
      "text/plain": [
       "84"
      ]
     },
     "execution_count": 12,
     "metadata": {},
     "output_type": "execute_result"
    }
   ],
   "source": [
    "new_pcourtesies_72 = tract_72_df.loc[:, 'New_public_courtesies']\n",
    "new_pcourtesies_72.sum()"
   ]
  },
  {
   "cell_type": "code",
   "execution_count": 13,
   "id": "26654680",
   "metadata": {},
   "outputs": [
    {
     "data": {
      "text/plain": [
       "58.0"
      ]
     },
     "execution_count": 13,
     "metadata": {},
     "output_type": "execute_result"
    }
   ],
   "source": [
    "new_sign_disorder_72 = tract_72_df.loc[:, 'Signs_discouraging_disorder']\n",
    "new_sign_disorder_72.sum()"
   ]
  },
  {
   "cell_type": "code",
   "execution_count": 14,
   "id": "e784ac46",
   "metadata": {},
   "outputs": [
    {
     "data": {
      "text/plain": [
       "11"
      ]
     },
     "execution_count": 14,
     "metadata": {},
     "output_type": "execute_result"
    }
   ],
   "source": [
    "litter_72 = tract_72_df.loc[:, 'Litter']\n",
    "litter_72.sum()"
   ]
  },
  {
   "cell_type": "code",
   "execution_count": 15,
   "id": "aee4b9da",
   "metadata": {},
   "outputs": [
    {
     "data": {
      "text/plain": [
       "24"
      ]
     },
     "execution_count": 15,
     "metadata": {},
     "output_type": "execute_result"
    }
   ],
   "source": [
    "commercial_gent_72 = tract_72_df.loc[:, 'Commercial_uses_alligned_w/_cultural_aspects_of_gentrification']\n",
    "commercial_gent_72.sum()"
   ]
  },
  {
   "cell_type": "code",
   "execution_count": 16,
   "id": "cfc6f13d",
   "metadata": {},
   "outputs": [
    {
     "name": "stdout",
     "output_type": "stream",
     "text": [
      "     TractID Google_or_IRl Block_Face_Direc.  \\\n",
      "115    74.01   Google Maps         Northeast   \n",
      "116    74.01   Google Maps             South   \n",
      "117    74.01   Google Maps              West   \n",
      "118    74.01   Google Maps             South   \n",
      "119    74.01   Google Maps             North   \n",
      "120    74.01   Google Maps              West   \n",
      "121    74.01   Google Maps              East   \n",
      "122    74.01   Google maps         Southwest   \n",
      "123    74.01   Google Maps             North   \n",
      "124    74.01   Google Maps         Northwest   \n",
      "125    74.01   Google Maps         Northeast   \n",
      "126    74.01   Google Maps         Southeast   \n",
      "127    74.01   Google maps         Southeast   \n",
      "128    74.01   Google Maps         Southwest   \n",
      "129    74.01   Google Maps         Northeast   \n",
      "130    74.01   Google Maps             South   \n",
      "131    74.01   Google Maps              West   \n",
      "132    74.01   Google Maps              East   \n",
      "133    74.01   Google Maps         Northwest   \n",
      "134    74.01   Google Maps             South   \n",
      "135    74.01   Google Maps             North   \n",
      "\n",
      "                                 Street_Address Image_Month  Image_Year  \\\n",
      "115                          1357 Stevens Rd SE        June        2014   \n",
      "116                          1340 Stevens RD SE     October        2018   \n",
      "117                            1249 Eaton Rd SE        June        2018   \n",
      "118                            1286 Eaton Rd SE        June        2018   \n",
      "119                           2801 Pomero Rd SE      August        2018   \n",
      "120                           2651 Birney PL SE        June        2018   \n",
      "121           2568 Martin Luther King Jr Ave SE     October        2018   \n",
      "122                             2677 Wade Rd SE        June        2014   \n",
      "123                             2820 Wade Rd SE        June        2014   \n",
      "124                           1101 Sumner Rd SE      August        2018   \n",
      "125                  2586 Firth Sterling Ave SE        June        2014   \n",
      "126                           1230 Sumner Rd SE      August        2018   \n",
      "127  Bethlehem Baptist Church on - Howard Rd SE        June        2018   \n",
      "128                           1351 Howard Rd SE        June        2018   \n",
      "129                          2400 Shannon Pl SE     October        2018   \n",
      "130                          2309 Shannon Pl SE     October        2018   \n",
      "131                          2635 MLK Jr Ave SE        July        2018   \n",
      "132                           2650 Birney PL SE        June        2018   \n",
      "133                          2820 Pomeroy Rd SE      August        2018   \n",
      "134                          2511 Stanton Rd SE        July        2014   \n",
      "135                          2502 Stanton RD SE        July        2018   \n",
      "\n",
      "    Primary_Land_Use Primary_Land_Use2  #_of_Strucures  \\\n",
      "115      Residential       Residential              48   \n",
      "116      Residential       Residential              45   \n",
      "117      Residential       Residential              43   \n",
      "118      Residential       Residential              26   \n",
      "119      Residential       Residential              10   \n",
      "120      Residential       Residential              14   \n",
      "121    Institutional     Institutional               2   \n",
      "122      Residential       Residential               3   \n",
      "123      Residential       Residential              12   \n",
      "124      Residential       Residential              26   \n",
      "125      Residential       Residential               2   \n",
      "126      Residential       Residential              25   \n",
      "127    Institutional     Institutional               1   \n",
      "128      Residential       Residential               4   \n",
      "129    Institutional     Institutional               1   \n",
      "130      Residential       Residential              16   \n",
      "131      Residential       Residential               4   \n",
      "132      Residential       Residential               5   \n",
      "133      Residential       Residential               8   \n",
      "134      Residential       Residential               6   \n",
      "135      Residential       Residential               1   \n",
      "\n",
      "     #_of_Residential_Struc.  ...  Indicator_of_foreign_presence  \\\n",
      "115                       48  ...                              0   \n",
      "116                       45  ...                              0   \n",
      "117                       43  ...                              0   \n",
      "118                       26  ...                              0   \n",
      "119                       10  ...                              0   \n",
      "120                       13  ...                              0   \n",
      "121                        0  ...                              0   \n",
      "122                        3  ...                              0   \n",
      "123                       11  ...                              0   \n",
      "124                       26  ...                              0   \n",
      "125                        2  ...                              0   \n",
      "126                       24  ...                              0   \n",
      "127                        0  ...                              0   \n",
      "128                        4  ...                              0   \n",
      "129                        0  ...                              0   \n",
      "130                       15  ...                              0   \n",
      "131                        3  ...                              0   \n",
      "132                        5  ...                              0   \n",
      "133                        8  ...                              0   \n",
      "134                        6  ...                              0   \n",
      "135                        1  ...                              0   \n",
      "\n",
      "     Describe_Indicator_of_foregin_presence  Visible_People?  \\\n",
      "115                                       0                1   \n",
      "116                                       0                1   \n",
      "117                                       0                1   \n",
      "118                                       0                1   \n",
      "119                                       0                0   \n",
      "120                                       0                1   \n",
      "121                                       0                1   \n",
      "122                                       0                0   \n",
      "123                                       0                1   \n",
      "124                                       0                1   \n",
      "125                                       0                1   \n",
      "126                                       0                1   \n",
      "127                                       0                1   \n",
      "128                                       0                0   \n",
      "129                                       0                1   \n",
      "130                                       0                1   \n",
      "131                                       0                0   \n",
      "132                                       0                1   \n",
      "133                                       0                0   \n",
      "134                                       0                0   \n",
      "135                                       0                1   \n",
      "\n",
      "     #_of_visible_people_(not_in_cars)   Race_of_visible_people  \\\n",
      "115                                  7         African-American   \n",
      "116                                  3         African-American   \n",
      "117                                  1         African-American   \n",
      "118                                  1             Mostly black   \n",
      "119                                  0                        0   \n",
      "120                                  2         African American   \n",
      "121                                  2             Mostly black   \n",
      "122                                  0                        0   \n",
      "123                                  2             Mostly black   \n",
      "124                                  7             Mostly black   \n",
      "125                                  1                    Black   \n",
      "126                                  7             Mostly black   \n",
      "127                                  2            Mostly latino   \n",
      "128                                  0                        0   \n",
      "129                                  2  Mixed: Black and latino   \n",
      "130                                  2             Mostly black   \n",
      "131                                  0                        0   \n",
      "132                                 10             Mostly black   \n",
      "133                                  0                        0   \n",
      "134                                  0                        0   \n",
      "135                                  1             Mostly black   \n",
      "\n",
      "                                 Age_of_visible_people  \\\n",
      "115           young adults (4) middle aged (2) child 1   \n",
      "116                   young adults (2) middle aged (1)   \n",
      "117                                    middle aged (1)   \n",
      "118                                        Young adult   \n",
      "119                                                  0   \n",
      "120                                       young adults   \n",
      "121                                       Young Adults   \n",
      "122                                                  0   \n",
      "123                   Middle Aged (1), young adult (1)   \n",
      "124                   Middle aged (4), young adult (3)   \n",
      "125                                        Young adult   \n",
      "126  Middle aged (4), young adult (1), teen/ child (2)   \n",
      "127                                   Middled aged (2)   \n",
      "128                                                  0   \n",
      "129                                        Middle aged   \n",
      "130                                       Young adults   \n",
      "131                                                  0   \n",
      "132                  Middle aged (1), young adults (9)   \n",
      "133                                                  0   \n",
      "134                                                  0   \n",
      "135                                        Young adult   \n",
      "\n",
      "        Distinct_inconsistencies_among_G.S.V._images  \\\n",
      "115                      yes: blurry images for 2008   \n",
      "116  yes: blurry images/low quality images from 2008   \n",
      "117         yes blurry/ low quality images from 2009   \n",
      "118                yes; low quality images from 2009   \n",
      "119                         Blurry picture from 2008   \n",
      "120                  yes, had blurry images for 2008   \n",
      "121                                               No   \n",
      "122                                               No   \n",
      "123                                               No   \n",
      "124                                               No   \n",
      "125                                               No   \n",
      "126                                               No   \n",
      "127                      yes, blurry images for 2007   \n",
      "128                                               No   \n",
      "129                      yes, blurry images for 2008   \n",
      "130                                yes blurry images   \n",
      "131                                               No   \n",
      "132                             Blurry 2008 pictures   \n",
      "133                                               No   \n",
      "134                                               No   \n",
      "135                          Blurry pictures in 2008   \n",
      "\n",
      "         Years_available_for_block_face  \\\n",
      "115              2008, 2009, 2012, 2014   \n",
      "116              2008, 2009, 2012, 2010   \n",
      "117              2018, 2014, 2012, 2009   \n",
      "118              2018, 2014, 2012, 2009   \n",
      "119                    2008, 2009, 2014   \n",
      "120        2008, 2009, 2012, 2010, 2018   \n",
      "121              2008, 2011, 2014, 2018   \n",
      "122                           2009-2018   \n",
      "123                           2009-2018   \n",
      "124  2008, 2009, 2012, 2014, 2017, 2018   \n",
      "125                           2008-2014   \n",
      "126  2018, 2017, 2014, 2012, 2009, 2008   \n",
      "127  2007, 2009, 2011, 2012, 2014, 2018   \n",
      "128  2007, 2009, 2011, 2012, 2014, 2018   \n",
      "129              2008, 2009, 2014, 2018   \n",
      "130                    2008, 2009, 2018   \n",
      "131  2007, 2008, 2011, 2014, 2017, 2018   \n",
      "132        2008, 2009, 2012, 2014, 2018   \n",
      "133                    2008, 2009, 2014   \n",
      "134              2008, 2009, 2012, 2014   \n",
      "135        2008, 2009, 2011, 2012, 2014   \n",
      "\n",
      "     Major_difference_btwn_previous_image_yrs._and_most_recent_yr.?  \\\n",
      "115                                                  0                \n",
      "116                                                  0                \n",
      "117                                                  0                \n",
      "118                                                  0                \n",
      "119                                                  1                \n",
      "120                                                  0                \n",
      "121                                                  0                \n",
      "122                                                  0                \n",
      "123                                                  0                \n",
      "124                                                  0                \n",
      "125                                                  0                \n",
      "126                                                  1                \n",
      "127                                                  0                \n",
      "128                                                  0                \n",
      "129                                                  1                \n",
      "130                                                  0                \n",
      "131                                                  0                \n",
      "132                                                  0                \n",
      "133                                                  0                \n",
      "134                                                  0                \n",
      "135                                                  0                \n",
      "\n",
      "     If_yes,_briefly_describe_difference_btwn_image_yrs.  \n",
      "115                                                  0    \n",
      "116                                                  0    \n",
      "117                                                  0    \n",
      "118                                                  0    \n",
      "119                 Increased structure exterior decay    \n",
      "120                                                  0    \n",
      "121                                                  0    \n",
      "122                                                  0    \n",
      "123                                                  0    \n",
      "124                                                  0    \n",
      "125                                                  0    \n",
      "126  Demolition of Barry Farm Community Management ...    \n",
      "127                                                  0    \n",
      "128                                                  0    \n",
      "129  Major rennovation of school, creation of playg...    \n",
      "130                                                  0    \n",
      "131                                                  0    \n",
      "132                                                  0    \n",
      "133                                                  0    \n",
      "134                                                  0    \n",
      "135                                                  0    \n",
      "\n",
      "[21 rows x 40 columns]\n"
     ]
    }
   ],
   "source": [
    "tract_74_01_df = CensusTractData.query(\"TractID == 74.01\")\n",
    "print(tract_74_01_df)"
   ]
  },
  {
   "cell_type": "code",
   "execution_count": 17,
   "id": "baf8e275",
   "metadata": {},
   "outputs": [
    {
     "data": {
      "text/plain": [
       "11"
      ]
     },
     "execution_count": 17,
     "metadata": {},
     "output_type": "execute_result"
    }
   ],
   "source": [
    "new_signs_tract_74_01 = tract_74_01_df.loc[:, 'New_Signs/Structues_controlling_traffic']\n",
    "new_signs_tract_74_01.sum()"
   ]
  },
  {
   "cell_type": "code",
   "execution_count": 18,
   "id": "10c41027",
   "metadata": {},
   "outputs": [
    {
     "data": {
      "text/plain": [
       "7"
      ]
     },
     "execution_count": 18,
     "metadata": {},
     "output_type": "execute_result"
    }
   ],
   "source": [
    "new_pcourtesies_74_01 = tract_74_01_df.loc[:, 'New_public_courtesies']\n",
    "new_pcourtesies_74_01.sum()"
   ]
  },
  {
   "cell_type": "code",
   "execution_count": 19,
   "id": "2c79ac65",
   "metadata": {},
   "outputs": [
    {
     "data": {
      "text/plain": [
       "11.0"
      ]
     },
     "execution_count": 19,
     "metadata": {},
     "output_type": "execute_result"
    }
   ],
   "source": [
    "new_sign_disorder_74_01 = tract_74_01_df.loc[:, 'Signs_discouraging_disorder']\n",
    "new_sign_disorder_74_01.sum()"
   ]
  },
  {
   "cell_type": "code",
   "execution_count": 20,
   "id": "74cbc72c",
   "metadata": {},
   "outputs": [
    {
     "data": {
      "text/plain": [
       "15"
      ]
     },
     "execution_count": 20,
     "metadata": {},
     "output_type": "execute_result"
    }
   ],
   "source": [
    "litter_74_01 = tract_74_01_df.loc[:, 'Litter']\n",
    "litter_74_01.sum()"
   ]
  },
  {
   "cell_type": "code",
   "execution_count": 21,
   "id": "c874e509",
   "metadata": {},
   "outputs": [
    {
     "data": {
      "text/plain": [
       "0"
      ]
     },
     "execution_count": 21,
     "metadata": {},
     "output_type": "execute_result"
    }
   ],
   "source": [
    "commercial_gent_74_01 = tract_74_01_df.loc[:, 'Commercial_uses_alligned_w/_cultural_aspects_of_gentrification']\n",
    "commercial_gent_74_01.sum()"
   ]
  },
  {
   "cell_type": "code",
   "execution_count": 26,
   "id": "a34214cf",
   "metadata": {},
   "outputs": [
    {
     "name": "stdout",
     "output_type": "stream",
     "text": [
      "number of total blocks: 115\n",
      "total blocks with new Signs/Structues controlling traffic: 95\n",
      "percent of total blocks with indicator: 82.6086956521739\n"
     ]
    }
   ],
   "source": [
    "# tract 72 indicator: New_Signs/Structues_controlling_traffic\n",
    "\n",
    "# checking total blocks, sum of indicator, and total percentage of blocks with that indicator \n",
    "# calculating and creating percentages for census tract 72\n",
    "\n",
    "\n",
    "number_of_blocks_in_tract_72 = len(tract_72_df)\n",
    "num_signs_tract_72 = new_signs_tract_72.sum()\n",
    "print(\"number of total blocks:\", number_of_blocks_in_tract_72)\n",
    "\n",
    "print(\"total blocks with new Signs/Structues controlling traffic:\", num_signs_tract_72)\n",
    "per_new_signs_tract_72 = (num_signs_tract_72 * 100.0) / number_of_blocks_in_tract_72\n",
    "print(\"percent of total blocks with indicator:\", per_new_signs_tract_72)"
   ]
  },
  {
   "cell_type": "code",
   "execution_count": 27,
   "id": "b315170e",
   "metadata": {},
   "outputs": [
    {
     "name": "stdout",
     "output_type": "stream",
     "text": [
      "total blocks with new public courtesies: 84\n",
      "percent of total blocks with indicator: 73.04347826086956\n"
     ]
    }
   ],
   "source": [
    "# tract 72 indicator: New_public_courtesies\n",
    "\n",
    "num_pcourtesies_tract_72 = new_pcourtesies_72.sum()\n",
    "print(\"total blocks with new public courtesies:\", num_pcourtesies_tract_72)\n",
    "\n",
    "per_new_pcourtesies_tract_72 = (num_pcourtesies_tract_72 * 100.0) / number_of_blocks_in_tract_72\n",
    "print(\"percent of total blocks with indicator:\", per_new_pcourtesies_tract_72)"
   ]
  },
  {
   "cell_type": "code",
   "execution_count": 28,
   "id": "8f78f02c",
   "metadata": {},
   "outputs": [
    {
     "name": "stdout",
     "output_type": "stream",
     "text": [
      "total blocks with signs discouraging disorder: 58.0\n",
      "percent of total blocks with indicator: 50.43478260869565\n"
     ]
    }
   ],
   "source": [
    "# tract 72 indicator: Signs_discouraging_disorder\n",
    "\n",
    "num_sign_disorder_72 = new_sign_disorder_72.sum()\n",
    "print(\"total blocks with signs discouraging disorder:\", num_sign_disorder_72)\n",
    "\n",
    "per_sign_disorder_tract_72 = (num_sign_disorder_72 * 100.0) / number_of_blocks_in_tract_72\n",
    "print(\"percent of total blocks with indicator:\", per_sign_disorder_tract_72)"
   ]
  },
  {
   "cell_type": "code",
   "execution_count": 29,
   "id": "3ff5cfb9",
   "metadata": {},
   "outputs": [
    {
     "name": "stdout",
     "output_type": "stream",
     "text": [
      "total blocks with litter: 11\n",
      "percent of total blocks with indicator: 9.565217391304348\n"
     ]
    }
   ],
   "source": [
    "# tract 72 indicator: litter\n",
    "    \n",
    "num_litter_72 = litter_72.sum()\n",
    "print(\"total blocks with litter:\", num_litter_72)\n",
    "\n",
    "per_litter_tract_72 = (num_litter_72 * 100.0) / number_of_blocks_in_tract_72\n",
    "print(\"percent of total blocks with indicator:\", per_litter_tract_72)"
   ]
  },
  {
   "cell_type": "code",
   "execution_count": 31,
   "id": "2650e092",
   "metadata": {},
   "outputs": [
    {
     "name": "stdout",
     "output_type": "stream",
     "text": [
      "total blocks with commercial uses alligned w/ cultural aspects of gentrification: 24\n",
      "percent of total blocks with indicator: 20.869565217391305\n"
     ]
    }
   ],
   "source": [
    "# tract 72 indicator: commercial_uses_alligned_w/_cultural_aspects_of_gentrification\n",
    "\n",
    "num_commercial_gent_72 = commercial_gent_72.sum()\n",
    "print(\"total blocks with commercial uses alligned w/ cultural aspects of gentrification:\", num_commercial_gent_72)\n",
    "\n",
    "per_commercial_gent_72 = (num_commercial_gent_72 * 100.0) / number_of_blocks_in_tract_72\n",
    "print(\"percent of total blocks with indicator:\", per_commercial_gent_72)"
   ]
  },
  {
   "cell_type": "code",
   "execution_count": null,
   "id": "6a4a728c",
   "metadata": {},
   "outputs": [],
   "source": []
  },
  {
   "cell_type": "code",
   "execution_count": 32,
   "id": "62aa7d3e",
   "metadata": {},
   "outputs": [
    {
     "name": "stdout",
     "output_type": "stream",
     "text": [
      "number of total blocks: 21\n",
      "total blocks with new Signs/Structues controlling traffic: 11\n",
      "percent of total blocks with indicator: 52.38095238095238\n"
     ]
    }
   ],
   "source": [
    "# tract 74.01 indicator: New_Signs/Structues_controlling_traffic\n",
    "\n",
    "# checking total blocks, sum of indicator, and total percentage of blocks with that indicator \n",
    "# calculating and creating percentages for census tract 74.01\n",
    "\n",
    "\n",
    "number_of_blocks_in_tract_74_01 = len(tract_74_01_df)\n",
    "num_signs_tract_74_01 = new_signs_tract_74_01.sum()\n",
    "print(\"number of total blocks:\", number_of_blocks_in_tract_74_01)\n",
    "\n",
    "print(\"total blocks with new Signs/Structues controlling traffic:\", num_signs_tract_74_01)\n",
    "per_new_signs_tract_74_01 = (num_signs_tract_74_01 * 100.0) / number_of_blocks_in_tract_74_01\n",
    "print(\"percent of total blocks with indicator:\", per_new_signs_tract_74_01)"
   ]
  },
  {
   "cell_type": "code",
   "execution_count": 33,
   "id": "bd0b12fa",
   "metadata": {},
   "outputs": [
    {
     "name": "stdout",
     "output_type": "stream",
     "text": [
      "total blocks with new public courtesies: 7\n",
      "percent of total blocks with indicator: 33.333333333333336\n"
     ]
    }
   ],
   "source": [
    "# tract 74.01 indicator: New_public_courtesies\n",
    "\n",
    "num_pcourtesies_tract_74_01 = new_pcourtesies_74_01.sum()\n",
    "print(\"total blocks with new public courtesies:\", num_pcourtesies_tract_74_01)\n",
    "\n",
    "per_new_pcourtesies_tract_74_01 = (num_pcourtesies_tract_74_01 * 100.0) / number_of_blocks_in_tract_74_01\n",
    "print(\"percent of total blocks with indicator:\", per_new_pcourtesies_tract_74_01)"
   ]
  },
  {
   "cell_type": "code",
   "execution_count": 34,
   "id": "7fff8442",
   "metadata": {},
   "outputs": [
    {
     "name": "stdout",
     "output_type": "stream",
     "text": [
      "total blocks with signs discouraging disorder: 11.0\n",
      "percent of total blocks with indicator: 52.38095238095238\n"
     ]
    }
   ],
   "source": [
    "# tract 74.01 indicator: Signs_discouraging_disorder\n",
    "\n",
    "num_sign_disorder_74_01 = new_sign_disorder_74_01.sum()\n",
    "print(\"total blocks with signs discouraging disorder:\", num_sign_disorder_74_01)\n",
    "\n",
    "per_sign_disorder_tract_74_01 = (num_sign_disorder_74_01 * 100.0) / number_of_blocks_in_tract_74_01\n",
    "print(\"percent of total blocks with indicator:\", per_sign_disorder_tract_74_01)"
   ]
  },
  {
   "cell_type": "code",
   "execution_count": 36,
   "id": "d6b7a599",
   "metadata": {},
   "outputs": [
    {
     "name": "stdout",
     "output_type": "stream",
     "text": [
      "total blocks with litter: 15\n",
      "percent of total blocks with indicator: 71.42857142857143\n"
     ]
    }
   ],
   "source": [
    "# tract 74.01 indicator: litter\n",
    "    \n",
    "num_litter_74_01 = litter_74_01.sum()\n",
    "print(\"total blocks with litter:\", num_litter_74_01)\n",
    "\n",
    "per_litter_tract_74_01 = (num_litter_74_01 * 100.0) / number_of_blocks_in_tract_74_01\n",
    "print(\"percent of total blocks with indicator:\", per_litter_tract_74_01)"
   ]
  },
  {
   "cell_type": "code",
   "execution_count": 37,
   "id": "5b6cd7bb",
   "metadata": {},
   "outputs": [
    {
     "name": "stdout",
     "output_type": "stream",
     "text": [
      "total blocks with commercial uses alligned w/ cultural aspects of gentrification: 0\n",
      "percent of total blocks with indicator: 0.0\n"
     ]
    }
   ],
   "source": [
    "# tract 74.01 indicator: commercial_uses_alligned_w/_cultural_aspects_of_gentrification\n",
    "\n",
    "num_commercial_gent_74_01 = commercial_gent_74_01.sum()\n",
    "print(\"total blocks with commercial uses alligned w/ cultural aspects of gentrification:\", num_commercial_gent_74_01)\n",
    "\n",
    "per_commercial_gent_74_01 = (num_commercial_gent_74_01 * 100.0) / number_of_blocks_in_tract_74_01\n",
    "print(\"percent of total blocks with indicator:\", per_commercial_gent_74_01)"
   ]
  },
  {
   "cell_type": "code",
   "execution_count": 38,
   "id": "6fb47987",
   "metadata": {},
   "outputs": [
    {
     "name": "stdout",
     "output_type": "stream",
     "text": [
      "82.6086956521739 73.04347826086956 50.43478260869565 9.565217391304348 20.869565217391305\n"
     ]
    }
   ],
   "source": [
    "# printing all percentages of indicators for tract 72\n",
    "print(per_new_signs_tract_72, per_new_pcourtesies_tract_72, per_sign_disorder_tract_72, per_litter_tract_72, per_commercial_gent_72)"
   ]
  },
  {
   "cell_type": "code",
   "execution_count": 39,
   "id": "e2252774",
   "metadata": {},
   "outputs": [
    {
     "name": "stdout",
     "output_type": "stream",
     "text": [
      "52.38095238095238 33.333333333333336 52.38095238095238 71.42857142857143 0.0\n"
     ]
    }
   ],
   "source": [
    "# printing all percentages of indicators for tract 74.01\n",
    "print(per_new_signs_tract_74_01, per_new_pcourtesies_tract_74_01, per_sign_disorder_tract_74_01, per_litter_tract_74_01, per_commercial_gent_74_01)"
   ]
  },
  {
   "cell_type": "code",
   "execution_count": null,
   "id": "3aa61df0",
   "metadata": {},
   "outputs": [],
   "source": []
  },
  {
   "cell_type": "code",
   "execution_count": 97,
   "id": "91d16ea9",
   "metadata": {},
   "outputs": [
    {
     "data": {
      "image/png": "[encoded data removed]",
      "text/plain": [
       "<Figure size 1200x800 with 1 Axes>"
      ]
     },
     "metadata": {},
     "output_type": "display_data"
    }
   ],
   "source": [
    "# create dataset\n",
    "\n",
    "height = [9.56, 20.86, 50.43, 73.04, 82.61]\n",
    "\n",
    "bars = ('per_litter_tract_72', 'per_commercial_gent_72', 'per_sign_disorder_tract_72', 'per_new_pcourtesies_tract_72', 'per_new_signs_tract_72')\n",
    "    \n",
    "y_pos = np.arange(len(bars))\n",
    " \n",
    "# Create horizontal bars\n",
    "plt.barh(y_pos, height)\n",
    " \n",
    "# Create names on the x-axis\n",
    "plt.yticks(y_pos, bars)\n",
    "\n",
    "# Create bars with different colors\n",
    "plt.barh(bars, height, color=['green', 'brown', 'orange', 'red', 'blue'])\n",
    "\n",
    "# Add title and axis names\n",
    "plt.title('Census Tract 72: Investment and Disinvestment')\n",
    "plt.xlabel('Percent of total blocks with given indicator')\n",
    "plt.ylabel('Investment and disinvestment indicators')\n",
    "\n",
    "\n",
    "# Show graphic\n",
    "plt.show()"
   ]
  },
  {
   "cell_type": "code",
   "execution_count": 96,
   "id": "5e1392d4",
   "metadata": {},
   "outputs": [
    {
     "data": {
      "image/png": "[encoded data removed]",
      "text/plain": [
       "<Figure size 1200x800 with 1 Axes>"
      ]
     },
     "metadata": {},
     "output_type": "display_data"
    }
   ],
   "source": [
    "height = [0.0, 33.3, 52.4, 52.4, 71.5]\n",
    "\n",
    "bars = ('per_commercial_gent_77_01', 'per_new_pcourtesies_tract_72', 'per_sign_disorder_tract_72', 'per_new_signs_tract_72', 'per_litter_tract_72')\n",
    "    \n",
    "y_pos = np.arange(len(bars))\n",
    " \n",
    "# Create horizontal bars\n",
    "plt.barh(y_pos, height)\n",
    " \n",
    "# Create names on the x-axis\n",
    "plt.yticks(y_pos, bars)\n",
    "\n",
    "# Create bars with different colors\n",
    "plt.barh(bars, height, color=['brown', 'red', 'orange', 'blue', 'green'])\n",
    " \n",
    "# Add title and axis names\n",
    "plt.title('Census Tract 74.01: Investment and Disinvestment')\n",
    "plt.xlabel('Percent of total blocks with given indicator')\n",
    "plt.ylabel('Investment and disinvestment indicators')\n",
    "\n",
    "\n",
    "# Show graphic\n",
    "plt.show()"
   ]
  },
  {
   "cell_type": "code",
   "execution_count": null,
   "id": "87e8dc3d",
   "metadata": {},
   "outputs": [],
   "source": []
  },
  {
   "cell_type": "code",
   "execution_count": null,
   "id": "95f77846",
   "metadata": {},
   "outputs": [],
   "source": []
  }
 ],
 "metadata": {
  "kernelspec": {
   "display_name": "Python 3 (ipykernel)",
   "language": "python",
   "name": "python3"
  },
  "language_info": {
   "codemirror_mode": {
    "name": "ipython",
    "version": 3
   },
   "file_extension": ".py",
   "mimetype": "text/x-python",
   "name": "python",
   "nbconvert_exporter": "python",
   "pygments_lexer": "ipython3",
   "version": "3.10.9"
  }
 },
 "nbformat": 4,
 "nbformat_minor": 5
}
