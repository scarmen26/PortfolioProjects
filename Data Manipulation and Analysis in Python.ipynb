{
 "cells": [
  {
   "cell_type": "markdown",
   "id": "a36469d9",
   "metadata": {},
   "source": [
    "## Data Manipulation and Analysis in Python\n"
   ]
  },
  {
   "cell_type": "markdown",
   "id": "2fbb2f0a",
   "metadata": {},
   "source": [
    "### Introduction\n",
    "In this project, i perform  data manipulation and analysis on the Titanic Dataset from Kaggle (https://www.kaggle.com/competitions/titanic) using Python. I load the dataset, clean the data, and provide an overview of passengers who survived the Titanic shipwreck of 1912 by exploring variables like passenger socio-economic class, age, gender, and fare."
   ]
  },
  {
   "cell_type": "markdown",
   "id": "239f0f6a",
   "metadata": {},
   "source": [
    "### Data Loading\n",
    "Import required libraries and Load the Titanic dataset into a pandas Dataframe"
   ]
  },
  {
   "cell_type": "code",
   "execution_count": 1,
   "id": "f7690d57",
   "metadata": {},
   "outputs": [],
   "source": [
    "import pandas as pd"
   ]
  },
  {
   "cell_type": "markdown",
   "id": "22d98004",
   "metadata": {},
   "source": [
    "### Read CSV file (dataset) into a pandas DataFrame"
   ]
  },
  {
   "cell_type": "code",
   "execution_count": 3,
   "id": "f090671f",
   "metadata": {},
   "outputs": [],
   "source": [
    "titanic_df = pd.read_csv(r\"C:\\Users\\ext.carmen.salazar\\OneDrive - DSV\\Desktop\\titanic_dataset.csv\")"
   ]
  },
  {
   "cell_type": "markdown",
   "id": "ce385d07",
   "metadata": {},
   "source": [
    "### Exploring the dataset\n",
    "Use 'titanic_df.head() to view the first few rows of the dataframe and get an overview od the data'"
   ]
  },
  {
   "cell_type": "code",
   "execution_count": 4,
   "id": "8345cb20",
   "metadata": {},
   "outputs": [
    {
     "data": {
      "text/html": [
       "<div>\n",
       "<style scoped>\n",
       "    .dataframe tbody tr th:only-of-type {\n",
       "        vertical-align: middle;\n",
       "    }\n",
       "\n",
       "    .dataframe tbody tr th {\n",
       "        vertical-align: top;\n",
       "    }\n",
       "\n",
       "    .dataframe thead th {\n",
       "        text-align: right;\n",
       "    }\n",
       "</style>\n",
       "<table border=\"1\" class=\"dataframe\">\n",
       "  <thead>\n",
       "    <tr style=\"text-align: right;\">\n",
       "      <th></th>\n",
       "      <th>PassengerId</th>\n",
       "      <th>Survived</th>\n",
       "      <th>Pclass</th>\n",
       "      <th>Name</th>\n",
       "      <th>Sex</th>\n",
       "      <th>Age</th>\n",
       "      <th>SibSp</th>\n",
       "      <th>Parch</th>\n",
       "      <th>Ticket</th>\n",
       "      <th>Fare</th>\n",
       "      <th>Cabin</th>\n",
       "      <th>Embarked</th>\n",
       "    </tr>\n",
       "  </thead>\n",
       "  <tbody>\n",
       "    <tr>\n",
       "      <th>0</th>\n",
       "      <td>1</td>\n",
       "      <td>0</td>\n",
       "      <td>3</td>\n",
       "      <td>Braund, Mr. Owen Harris</td>\n",
       "      <td>male</td>\n",
       "      <td>22.0</td>\n",
       "      <td>1</td>\n",
       "      <td>0</td>\n",
       "      <td>A/5 21171</td>\n",
       "      <td>7.2500</td>\n",
       "      <td>NaN</td>\n",
       "      <td>S</td>\n",
       "    </tr>\n",
       "    <tr>\n",
       "      <th>1</th>\n",
       "      <td>2</td>\n",
       "      <td>1</td>\n",
       "      <td>1</td>\n",
       "      <td>Cumings, Mrs. John Bradley (Florence Briggs Th...</td>\n",
       "      <td>female</td>\n",
       "      <td>38.0</td>\n",
       "      <td>1</td>\n",
       "      <td>0</td>\n",
       "      <td>PC 17599</td>\n",
       "      <td>71.2833</td>\n",
       "      <td>C85</td>\n",
       "      <td>C</td>\n",
       "    </tr>\n",
       "    <tr>\n",
       "      <th>2</th>\n",
       "      <td>3</td>\n",
       "      <td>1</td>\n",
       "      <td>3</td>\n",
       "      <td>Heikkinen, Miss. Laina</td>\n",
       "      <td>female</td>\n",
       "      <td>26.0</td>\n",
       "      <td>0</td>\n",
       "      <td>0</td>\n",
       "      <td>STON/O2. 3101282</td>\n",
       "      <td>7.9250</td>\n",
       "      <td>NaN</td>\n",
       "      <td>S</td>\n",
       "    </tr>\n",
       "    <tr>\n",
       "      <th>3</th>\n",
       "      <td>4</td>\n",
       "      <td>1</td>\n",
       "      <td>1</td>\n",
       "      <td>Futrelle, Mrs. Jacques Heath (Lily May Peel)</td>\n",
       "      <td>female</td>\n",
       "      <td>35.0</td>\n",
       "      <td>1</td>\n",
       "      <td>0</td>\n",
       "      <td>113803</td>\n",
       "      <td>53.1000</td>\n",
       "      <td>C123</td>\n",
       "      <td>S</td>\n",
       "    </tr>\n",
       "    <tr>\n",
       "      <th>4</th>\n",
       "      <td>5</td>\n",
       "      <td>0</td>\n",
       "      <td>3</td>\n",
       "      <td>Allen, Mr. William Henry</td>\n",
       "      <td>male</td>\n",
       "      <td>35.0</td>\n",
       "      <td>0</td>\n",
       "      <td>0</td>\n",
       "      <td>373450</td>\n",
       "      <td>8.0500</td>\n",
       "      <td>NaN</td>\n",
       "      <td>S</td>\n",
       "    </tr>\n",
       "  </tbody>\n",
       "</table>\n",
       "</div>"
      ],
      "text/plain": [
       "   PassengerId  Survived  Pclass  \\\n",
       "0            1         0       3   \n",
       "1            2         1       1   \n",
       "2            3         1       3   \n",
       "3            4         1       1   \n",
       "4            5         0       3   \n",
       "\n",
       "                                                Name     Sex   Age  SibSp  \\\n",
       "0                            Braund, Mr. Owen Harris    male  22.0      1   \n",
       "1  Cumings, Mrs. John Bradley (Florence Briggs Th...  female  38.0      1   \n",
       "2                             Heikkinen, Miss. Laina  female  26.0      0   \n",
       "3       Futrelle, Mrs. Jacques Heath (Lily May Peel)  female  35.0      1   \n",
       "4                           Allen, Mr. William Henry    male  35.0      0   \n",
       "\n",
       "   Parch            Ticket     Fare Cabin Embarked  \n",
       "0      0         A/5 21171   7.2500   NaN        S  \n",
       "1      0          PC 17599  71.2833   C85        C  \n",
       "2      0  STON/O2. 3101282   7.9250   NaN        S  \n",
       "3      0            113803  53.1000  C123        S  \n",
       "4      0            373450   8.0500   NaN        S  "
      ]
     },
     "execution_count": 4,
     "metadata": {},
     "output_type": "execute_result"
    }
   ],
   "source": [
    "titanic_df.head()"
   ]
  },
  {
   "cell_type": "markdown",
   "id": "c27a0172",
   "metadata": {},
   "source": [
    "View total number of rows in dataframe (total number of observations in dataset) to help make sense of the dataset size and sample size\n"
   ]
  },
  {
   "cell_type": "code",
   "execution_count": 5,
   "id": "7ab1ce7c",
   "metadata": {},
   "outputs": [
    {
     "name": "stdout",
     "output_type": "stream",
     "text": [
      "Total number of observations: 891\n"
     ]
    }
   ],
   "source": [
    "total_observations = titanic_df.shape[0]\n",
    "print(\"Total number of observations:\", total_observations)"
   ]
  },
  {
   "cell_type": "markdown",
   "id": "f8b08ec9",
   "metadata": {},
   "source": [
    "### Data Cleaning\n",
    "Perform data cleaning procedures to address missing values, outliers, and inconsistencies."
   ]
  },
  {
   "cell_type": "markdown",
   "id": "9b151b65",
   "metadata": {},
   "source": [
    "Number of non-missing values in each column of the dataframe"
   ]
  },
  {
   "cell_type": "code",
   "execution_count": 6,
   "id": "8d9b24ed",
   "metadata": {},
   "outputs": [
    {
     "name": "stdout",
     "output_type": "stream",
     "text": [
      "Column counts:\n",
      "PassengerId    891\n",
      "Survived       891\n",
      "Pclass         891\n",
      "Name           891\n",
      "Sex            891\n",
      "Age            714\n",
      "SibSp          891\n",
      "Parch          891\n",
      "Ticket         891\n",
      "Fare           891\n",
      "Cabin          204\n",
      "Embarked       889\n",
      "dtype: int64\n"
     ]
    }
   ],
   "source": [
    "column_counts = titanic_df.count()\n",
    "print(\"Column counts:\")\n",
    "print(column_counts)\n"
   ]
  },
  {
   "cell_type": "markdown",
   "id": "f9b69737",
   "metadata": {},
   "source": [
    "Total number of missing values in each column"
   ]
  },
  {
   "cell_type": "code",
   "execution_count": 7,
   "id": "faf0fc65",
   "metadata": {},
   "outputs": [
    {
     "name": "stdout",
     "output_type": "stream",
     "text": [
      "Missing values per column:\n",
      "PassengerId      0\n",
      "Survived         0\n",
      "Pclass           0\n",
      "Name             0\n",
      "Sex              0\n",
      "Age            177\n",
      "SibSp            0\n",
      "Parch            0\n",
      "Ticket           0\n",
      "Fare             0\n",
      "Cabin          687\n",
      "Embarked         2\n",
      "dtype: int64\n"
     ]
    }
   ],
   "source": [
    "\n",
    "missing_values = titanic_df.isnull().sum()\n",
    "print(\"Missing values per column:\")\n",
    "print(missing_values)"
   ]
  },
  {
   "cell_type": "markdown",
   "id": "51a8d455",
   "metadata": {},
   "source": [
    "Fill in the missing values in 'Age' column with the mean age of available data because it perserves the overall distribution and central tendency of age data. The assumption is that missing data is at random."
   ]
  },
  {
   "cell_type": "code",
   "execution_count": 8,
   "id": "ad6dc4b6",
   "metadata": {},
   "outputs": [],
   "source": [
    "mean_age = titanic_df['Age'].mean()\n",
    "titanic_df['Age'].fillna(mean_age, inplace=True)"
   ]
  },
  {
   "cell_type": "markdown",
   "id": "72bc6c50",
   "metadata": {},
   "source": [
    "Handle missing values in 'Cabin' column. This column has a significant number of missing values, so creating a new binary feature 'HasCabin' allows for capturing whether a passenger had a cabin value or not. The absence of 'Cabin' data may be indicative of something meaningful."
   ]
  },
  {
   "cell_type": "code",
   "execution_count": 9,
   "id": "6ae2adcb",
   "metadata": {},
   "outputs": [],
   "source": [
    "titanic_df['HasCabin'] = titanic_df['Cabin'].notnull().astype(int)"
   ]
  },
  {
   "cell_type": "markdown",
   "id": "aa4071a3",
   "metadata": {},
   "source": [
    "Handle missing values in 'Embarked' column. Filling in only 2 missing values with the most frequent value to maintain overall distribution of embarkation ports. The assumption is that missing data is at random."
   ]
  },
  {
   "cell_type": "code",
   "execution_count": 10,
   "id": "949a87b4",
   "metadata": {},
   "outputs": [],
   "source": [
    "mode_embarked = titanic_df['Embarked'].mode()[0]\n",
    "titanic_df['Embarked'].fillna(mode_embarked, inplace=True)"
   ]
  },
  {
   "cell_type": "markdown",
   "id": "32ae4a20",
   "metadata": {},
   "source": [
    "Check for and count duplicates in dataframe"
   ]
  },
  {
   "cell_type": "code",
   "execution_count": 11,
   "id": "066ca533",
   "metadata": {},
   "outputs": [
    {
     "name": "stdout",
     "output_type": "stream",
     "text": [
      "Number of duplicate rows: 0\n"
     ]
    }
   ],
   "source": [
    "# check for duplicates in dataframe\n",
    "duplicates = titanic_df.duplicated()\n",
    "\n",
    "# count the number of duplicates\n",
    "number_duplicates = duplicates.sum()\n",
    "\n",
    "print(\"Number of duplicate rows:\", number_duplicates)"
   ]
  },
  {
   "cell_type": "markdown",
   "id": "ee122bae",
   "metadata": {},
   "source": [
    "Retrieve the data types of each column to see if i need to convert data types for proper analysis. It looks like assigned types align with expected type for each column in the dataset."
   ]
  },
  {
   "cell_type": "code",
   "execution_count": 12,
   "id": "6c29f39c",
   "metadata": {},
   "outputs": [
    {
     "name": "stdout",
     "output_type": "stream",
     "text": [
      "Data types of each column:\n",
      "PassengerId      int64\n",
      "Survived         int64\n",
      "Pclass           int64\n",
      "Name            object\n",
      "Sex             object\n",
      "Age            float64\n",
      "SibSp            int64\n",
      "Parch            int64\n",
      "Ticket          object\n",
      "Fare           float64\n",
      "Cabin           object\n",
      "Embarked        object\n",
      "HasCabin         int32\n",
      "dtype: object\n"
     ]
    }
   ],
   "source": [
    "data_types = titanic_df.dtypes\n",
    "print(\"Data types of each column:\")\n",
    "print(data_types)"
   ]
  },
  {
   "cell_type": "markdown",
   "id": "9b61908e",
   "metadata": {},
   "source": [
    "### Data Transformation"
   ]
  },
  {
   "cell_type": "markdown",
   "id": "50db5427",
   "metadata": {},
   "source": [
    "#### What is the average age of passengers?\n",
    "The average age of passengers on the Titanic (29.7) provides an understanding of the age distribution."
   ]
  },
  {
   "cell_type": "code",
   "execution_count": 13,
   "id": "b1631cd6",
   "metadata": {},
   "outputs": [
    {
     "name": "stdout",
     "output_type": "stream",
     "text": [
      "Average age of passengers: 29.69911764705882\n"
     ]
    }
   ],
   "source": [
    "mean_age = titanic_df['Age'].mean()\n",
    "print(\"Average age of passengers:\", mean_age)"
   ]
  },
  {
   "cell_type": "markdown",
   "id": "0d302ccf",
   "metadata": {},
   "source": [
    "#### What is the minimum and maximum age of passengers?"
   ]
  },
  {
   "cell_type": "markdown",
   "id": "2a517a7f",
   "metadata": {},
   "source": [
    " The minimum and maximum provides an age range of passengers. The minimum age is 0.42 years (about 5 months) and the maximum age is 80 years. "
   ]
  },
  {
   "cell_type": "code",
   "execution_count": 14,
   "id": "ed3e7fa5",
   "metadata": {},
   "outputs": [
    {
     "name": "stdout",
     "output_type": "stream",
     "text": [
      "Minimum age of passengers: 0.42\n",
      "Maximum age of passengers: 80.0\n"
     ]
    }
   ],
   "source": [
    "min_age = titanic_df['Age'].min()\n",
    "max_age = titanic_df['Age'].max()\n",
    "\n",
    "print(\"Minimum age of passengers:\", min_age)\n",
    "print(\"Maximum age of passengers:\", max_age)"
   ]
  },
  {
   "cell_type": "markdown",
   "id": "0f7be7ab",
   "metadata": {},
   "source": [
    "Calculate average age of survivors and non-survivors"
   ]
  },
  {
   "cell_type": "code",
   "execution_count": 16,
   "id": "f920e610",
   "metadata": {},
   "outputs": [
    {
     "name": "stdout",
     "output_type": "stream",
     "text": [
      "Average age of survivors: 28.549778121775027\n",
      "Average age of non-survivors: 30.415099646415943\n"
     ]
    }
   ],
   "source": [
    "avg_age_survived = titanic_df[titanic_df['Survived'] == 1]['Age'].mean()\n",
    "avg_age_not_survived = titanic_df[titanic_df['Survived'] == 0]['Age'].mean()\n",
    "\n",
    "print(\"Average age of survivors:\", avg_age_survived)\n",
    "print(\"Average age of non-survivors:\", avg_age_not_survived)"
   ]
  },
  {
   "cell_type": "markdown",
   "id": "971e01b8",
   "metadata": {},
   "source": [
    "#### What is the median fare paid by the passengers?\n",
    "This demonstrates that half of the passengers paid less than $14.45 and the other half paid more than $14.45. This provides a central tendency that is less affected by extreme fare values."
   ]
  },
  {
   "cell_type": "code",
   "execution_count": 17,
   "id": "81665b94",
   "metadata": {},
   "outputs": [
    {
     "name": "stdout",
     "output_type": "stream",
     "text": [
      "Median fare paid by passengers: 14.4542\n"
     ]
    }
   ],
   "source": [
    "median_fare = titanic_df['Fare'].median()\n",
    "print(\"Median fare paid by passengers:\", median_fare)"
   ]
  },
  {
   "cell_type": "markdown",
   "id": "29356db3",
   "metadata": {},
   "source": [
    "Calculate average fare of survivors and non-survivors"
   ]
  },
  {
   "cell_type": "code",
   "execution_count": 18,
   "id": "9fde4f81",
   "metadata": {},
   "outputs": [
    {
     "name": "stdout",
     "output_type": "stream",
     "text": [
      "Average fare of survivors: 48.39540760233918\n",
      "Average fare of non-survivors: 22.117886885245902\n"
     ]
    }
   ],
   "source": [
    "avg_fare_survived = titanic_df[titanic_df['Survived'] == 1]['Fare'].mean()\n",
    "avg_fare_not_survived = titanic_df[titanic_df['Survived'] == 0]['Fare'].mean()\n",
    "\n",
    "print(\"Average fare of survivors:\", avg_fare_survived)\n",
    "print(\"Average fare of non-survivors:\", avg_fare_not_survived)"
   ]
  },
  {
   "cell_type": "markdown",
   "id": "5d9a14e7",
   "metadata": {},
   "source": [
    "#### What is the fare distribution and spread of prices paid?\n",
    "Calculating the quartiles (25th, 50th, and 75th percentile) of \"Fare\" column. After calculating, we can see that 25th percentile of the fare variable is $7.91, the 75th percentile of the fare variables is $31, meaning that 25% of passengers paid less than $7.91, while 25% paid more than $31. "
   ]
  },
  {
   "cell_type": "code",
   "execution_count": 17,
   "id": "bee33125",
   "metadata": {},
   "outputs": [
    {
     "name": "stdout",
     "output_type": "stream",
     "text": [
      "Quartiles of fare:\n",
      "0.25     7.9104\n",
      "0.50    14.4542\n",
      "0.75    31.0000\n",
      "Name: Fare, dtype: float64\n"
     ]
    }
   ],
   "source": [
    "quartiles = titanic_df['Fare'].quantile([0.25, 0.5, 0.75])\n",
    "print(\"Quartiles of fare:\")\n",
    "print(quartiles)"
   ]
  },
  {
   "cell_type": "markdown",
   "id": "5e84d297",
   "metadata": {},
   "source": [
    "#### What is the most common socio-economic class among the passengers?\n",
    "Mode: most frequent value(s) in passenger class variable to determine most common socio-economic class among the passengers"
   ]
  },
  {
   "cell_type": "code",
   "execution_count": 18,
   "id": "d113763c",
   "metadata": {},
   "outputs": [
    {
     "name": "stdout",
     "output_type": "stream",
     "text": [
      "Mode of passenger class:\n",
      "0    3\n",
      "Name: Pclass, dtype: int64\n"
     ]
    }
   ],
   "source": [
    "mode_passenger_class = titanic_df['Pclass'].mode()\n",
    "print(\"Mode of passenger class:\")\n",
    "print(mode_passenger_class)"
   ]
  },
  {
   "cell_type": "code",
   "execution_count": 19,
   "id": "bcc0d269",
   "metadata": {},
   "outputs": [
    {
     "name": "stdout",
     "output_type": "stream",
     "text": [
      "most common passenger class: 3\n"
     ]
    }
   ],
   "source": [
    "# we can see that the column has multuple modes (0 & 3), to access most common passenger class, we use index at 0\n",
    "\n",
    "common_passenger_class = mode_passenger_class[0]\n",
    "print(\"most common passenger class:\", common_passenger_class)"
   ]
  },
  {
   "cell_type": "markdown",
   "id": "eff4bb19",
   "metadata": {},
   "source": [
    "Calculate most common socio-economic class among survivors and non-survivors"
   ]
  },
  {
   "cell_type": "code",
   "execution_count": 19,
   "id": "eef3bbd9",
   "metadata": {},
   "outputs": [
    {
     "name": "stdout",
     "output_type": "stream",
     "text": [
      "Most common socio-economic class among survivors: 1\n",
      "Most common socio-economic class among non-survivors: 3\n"
     ]
    }
   ],
   "source": [
    "pclass_survived = titanic_df[titanic_df['Survived'] == 1]['Pclass'].mode()[0]\n",
    "pclass_not_survived = titanic_df[titanic_df['Survived'] == 0]['Pclass'].mode()[0]\n",
    "\n",
    "print(\"Most common socio-economic class among survivors:\", pclass_survived)\n",
    "print(\"Most common socio-economic class among non-survivors:\", pclass_not_survived)"
   ]
  },
  {
   "cell_type": "markdown",
   "id": "a8671d93",
   "metadata": {},
   "source": [
    "#### Did women or men die more in the Titanic dataset?"
   ]
  },
  {
   "cell_type": "markdown",
   "id": "8afc1f9f",
   "metadata": {},
   "source": [
    "Grouping data by 'Sex' column and calculating count of survivors and non-survivors within each group"
   ]
  },
  {
   "cell_type": "code",
   "execution_count": 21,
   "id": "28c30626",
   "metadata": {},
   "outputs": [],
   "source": [
    "survival_cnts = titanic_df.groupby('Sex')['Survived'].value_counts()"
   ]
  },
  {
   "cell_type": "markdown",
   "id": "928b10f2",
   "metadata": {},
   "source": [
    "Number count of survivors and non-survivors for women and men"
   ]
  },
  {
   "cell_type": "code",
   "execution_count": 22,
   "id": "afc9eab1",
   "metadata": {},
   "outputs": [],
   "source": [
    "women_survived = survival_cnts.loc[('female', 1)]\n",
    "women_not_survived = survival_cnts.loc[('female', 0)]\n",
    "\n",
    "men_survived = survival_cnts.loc[('male', 1)]\n",
    "men_not_survived = survival_cnts.loc[('male', 0)]"
   ]
  },
  {
   "cell_type": "markdown",
   "id": "a605019d",
   "metadata": {},
   "source": [
    "Calculate total number of women and men in dataset"
   ]
  },
  {
   "cell_type": "code",
   "execution_count": 23,
   "id": "19492581",
   "metadata": {},
   "outputs": [],
   "source": [
    "total_women = women_survived + women_not_survived\n",
    "total_men = men_survived + men_not_survived"
   ]
  },
  {
   "cell_type": "markdown",
   "id": "f0430c52",
   "metadata": {},
   "source": [
    "Calculate percentage of survivors and non-survivors for women and men"
   ]
  },
  {
   "cell_type": "code",
   "execution_count": 24,
   "id": "8637a181",
   "metadata": {},
   "outputs": [],
   "source": [
    "women_survial_rate = women_survived / total_women * 100\n",
    "men_survial_rate = men_survived / total_men * 100"
   ]
  },
  {
   "cell_type": "markdown",
   "id": "4adeb202",
   "metadata": {},
   "source": [
    "Compare counts and survival rates to determine whether women or men had higher survival rate"
   ]
  },
  {
   "cell_type": "code",
   "execution_count": 25,
   "id": "5fdaf6d8",
   "metadata": {},
   "outputs": [
    {
     "name": "stdout",
     "output_type": "stream",
     "text": [
      "Women Survived:  233\n",
      "Women not Survived:  81\n",
      "Men Survived:  109\n",
      "Men not Survived:  468\n",
      "Survival rate for women:  74.20382165605095\n",
      "Survival rate for men:  18.890814558058924\n"
     ]
    }
   ],
   "source": [
    "print(\"Women Survived: \", women_survived)\n",
    "print(\"Women not Survived: \", women_not_survived)\n",
    "\n",
    "print(\"Men Survived: \", men_survived)\n",
    "print(\"Men not Survived: \", men_not_survived)\n",
    "\n",
    "print(\"Survival rate for women: \", women_survial_rate)\n",
    "print(\"Survival rate for men: \", men_survial_rate)"
   ]
  },
  {
   "cell_type": "markdown",
   "id": "2cda8b1b",
   "metadata": {},
   "source": [
    "### Interpretation and insights"
   ]
  },
  {
   "cell_type": "markdown",
   "id": "78364d8b",
   "metadata": {},
   "source": [
    "The objective of this project was to determine factors that influenced the likelihood of survival among passengers. By analyzing passenger data such as age, gender, socio-economic class, and fare, i aim to understand which characteristics were associated with a higher probability of survival."
   ]
  },
  {
   "cell_type": "markdown",
   "id": "aa625a22",
   "metadata": {},
   "source": [
    "The results suggest that factors such as age, gender, socio-economic class, and fare influenced the probability of survival on the Titanic. Younger passengers, those with higher fares or from higher socio-economic classes (particularly class 1), and women had a higher likelihood of surviving the disaster.\n",
    "\n",
    "Average age of survivors: 28.5\n",
    "Average age of non-survivors: 30.4\n",
    "\n",
    "Average fare of survivors: $48.4\n",
    "Average fare of non-survivors: $22.1\n",
    "\n",
    "Most common socio-economic class among survivors: 1 (Upper)\n",
    "Most common socio-economic class among non-survivors: 3 (Lower)\n",
    "\n",
    "Women Survived: 233\n",
    "Men Survived:  109\n",
    "\n",
    "Women not Survived: 81\n",
    "Men not Survived:  468\n",
    "\n",
    "Survival rate for women:  %74.2\n",
    "Survival rate for men:  %18.9"
   ]
  }
 ],
 "metadata": {
  "kernelspec": {
   "display_name": "Python 3 (ipykernel)",
   "language": "python",
   "name": "python3"
  },
  "language_info": {
   "codemirror_mode": {
    "name": "ipython",
    "version": 3
   },
   "file_extension": ".py",
   "mimetype": "text/x-python",
   "name": "python",
   "nbconvert_exporter": "python",
   "pygments_lexer": "ipython3",
   "version": "3.10.9"
  }
 },
 "nbformat": 4,
 "nbformat_minor": 5
}
